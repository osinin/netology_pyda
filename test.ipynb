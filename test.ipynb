{
 "cells": [
  {
   "cell_type": "markdown",
   "metadata": {},
   "source": [
    "## Задание 1"
   ]
  },
  {
   "cell_type": "markdown",
   "metadata": {},
   "source": [
    "Сотрудник службы оценки качества продукции заметил, что число бракованных листов стали в партии для стали марки A больше, чем для стали марки B. Также он обратил внимание, что при средней скорости прокатки более 4 м/с число бракованных листов больше. В соответствии с этими наблюдениями, предлагается снизить скорость прокатки и ввести дополнительные меры контроля качества для стали марки A.  \n",
    "\n",
    "Обоснуйте, что:\n",
    "\n",
    "1)\tБолее 3 бракованных листов на партию выходит значимо чаще для стали марки А, чем для стали марки B.\n",
    "\n",
    "2)\tПри скоростях прокатки более 4 м/с свыше 3 бракованных листов стали на партию выходит значимо чаще, чем при меньших скоростях прокатки. \n",
    "\n",
    "Данные, необходимые для анализа, содержатся в файле «Статистика за 2018 год». Количество листов стали в каждой партии предполагается одинаковым. \n"
   ]
  },
  {
   "cell_type": "code",
   "execution_count": 1,
   "metadata": {},
   "outputs": [],
   "source": [
    "import pandas as pd\n",
    "import matplotlib.pyplot as plt\n",
    "import seaborn as sns"
   ]
  },
  {
   "cell_type": "markdown",
   "metadata": {},
   "source": [
    "Для начала, рассмотрим структуру данных:"
   ]
  },
  {
   "cell_type": "code",
   "execution_count": 2,
   "metadata": {},
   "outputs": [],
   "source": [
    "df = pd.read_csv('Статистика за 2018 год.csv', encoding = 'cp1251')"
   ]
  },
  {
   "cell_type": "code",
   "execution_count": 3,
   "metadata": {},
   "outputs": [
    {
     "data": {
      "text/html": [
       "<div>\n",
       "<style scoped>\n",
       "    .dataframe tbody tr th:only-of-type {\n",
       "        vertical-align: middle;\n",
       "    }\n",
       "\n",
       "    .dataframe tbody tr th {\n",
       "        vertical-align: top;\n",
       "    }\n",
       "\n",
       "    .dataframe thead th {\n",
       "        text-align: right;\n",
       "    }\n",
       "</style>\n",
       "<table border=\"1\" class=\"dataframe\">\n",
       "  <thead>\n",
       "    <tr style=\"text-align: right;\">\n",
       "      <th></th>\n",
       "      <th>Число бракованных листов</th>\n",
       "      <th>Скорость прокатки</th>\n",
       "      <th>Марка стали</th>\n",
       "    </tr>\n",
       "  </thead>\n",
       "  <tbody>\n",
       "    <tr>\n",
       "      <th>0</th>\n",
       "      <td>3</td>\n",
       "      <td>3.8</td>\n",
       "      <td>A</td>\n",
       "    </tr>\n",
       "    <tr>\n",
       "      <th>1</th>\n",
       "      <td>3</td>\n",
       "      <td>3.8</td>\n",
       "      <td>B</td>\n",
       "    </tr>\n",
       "    <tr>\n",
       "      <th>2</th>\n",
       "      <td>3</td>\n",
       "      <td>4.8</td>\n",
       "      <td>B</td>\n",
       "    </tr>\n",
       "    <tr>\n",
       "      <th>3</th>\n",
       "      <td>4</td>\n",
       "      <td>4.4</td>\n",
       "      <td>B</td>\n",
       "    </tr>\n",
       "    <tr>\n",
       "      <th>4</th>\n",
       "      <td>6</td>\n",
       "      <td>5.0</td>\n",
       "      <td>B</td>\n",
       "    </tr>\n",
       "  </tbody>\n",
       "</table>\n",
       "</div>"
      ],
      "text/plain": [
       "   Число бракованных листов  Скорость прокатки Марка стали\n",
       "0                         3                3.8           A\n",
       "1                         3                3.8           B\n",
       "2                         3                4.8           B\n",
       "3                         4                4.4           B\n",
       "4                         6                5.0           B"
      ]
     },
     "execution_count": 3,
     "metadata": {},
     "output_type": "execute_result"
    }
   ],
   "source": [
    "df.head()"
   ]
  },
  {
   "cell_type": "markdown",
   "metadata": {},
   "source": [
    "Всего в датафрейме 237 партий, пропусков в строках нет:"
   ]
  },
  {
   "cell_type": "code",
   "execution_count": 4,
   "metadata": {},
   "outputs": [
    {
     "name": "stdout",
     "output_type": "stream",
     "text": [
      "<class 'pandas.core.frame.DataFrame'>\n",
      "RangeIndex: 237 entries, 0 to 236\n",
      "Data columns (total 3 columns):\n",
      "Число бракованных листов    237 non-null int64\n",
      "Скорость прокатки           237 non-null float64\n",
      "Марка стали                 237 non-null object\n",
      "dtypes: float64(1), int64(1), object(1)\n",
      "memory usage: 5.6+ KB\n"
     ]
    }
   ],
   "source": [
    "df.info()"
   ]
  },
  {
   "cell_type": "markdown",
   "metadata": {},
   "source": [
    "Если удалить дубликаты, то останется всего 167 партий. По хорошему, нужно проверить достоверность данных и понять - это на самом деле дубликаты или просто партии с одинаковыми характеристиками?\n",
    "В тестовом задании буду считать, что действительно разные партии и у них совпали показатели."
   ]
  },
  {
   "cell_type": "code",
   "execution_count": 6,
   "metadata": {},
   "outputs": [
    {
     "data": {
      "text/plain": [
       "(167, 3)"
      ]
     },
     "execution_count": 6,
     "metadata": {},
     "output_type": "execute_result"
    }
   ],
   "source": [
    "df_dd = df.drop_duplicates()\n",
    "df_dd.shape"
   ]
  },
  {
   "cell_type": "markdown",
   "metadata": {},
   "source": [
    "Посмотрим распределение по маркам стали. Партий марки А примерно на 30% больше, чем марки B. В дальнейшем будем это учитывать."
   ]
  },
  {
   "cell_type": "code",
   "execution_count": 7,
   "metadata": {},
   "outputs": [
    {
     "data": {
      "text/html": [
       "<div>\n",
       "<style scoped>\n",
       "    .dataframe tbody tr th:only-of-type {\n",
       "        vertical-align: middle;\n",
       "    }\n",
       "\n",
       "    .dataframe tbody tr th {\n",
       "        vertical-align: top;\n",
       "    }\n",
       "\n",
       "    .dataframe thead th {\n",
       "        text-align: right;\n",
       "    }\n",
       "</style>\n",
       "<table border=\"1\" class=\"dataframe\">\n",
       "  <thead>\n",
       "    <tr style=\"text-align: right;\">\n",
       "      <th></th>\n",
       "      <th>Марка стали</th>\n",
       "      <th>Число бракованных листов</th>\n",
       "      <th>Скорость прокатки</th>\n",
       "    </tr>\n",
       "  </thead>\n",
       "  <tbody>\n",
       "    <tr>\n",
       "      <th>0</th>\n",
       "      <td>A</td>\n",
       "      <td>139</td>\n",
       "      <td>139</td>\n",
       "    </tr>\n",
       "    <tr>\n",
       "      <th>1</th>\n",
       "      <td>B</td>\n",
       "      <td>98</td>\n",
       "      <td>98</td>\n",
       "    </tr>\n",
       "  </tbody>\n",
       "</table>\n",
       "</div>"
      ],
      "text/plain": [
       "  Марка стали  Число бракованных листов  Скорость прокатки\n",
       "0           A                       139                139\n",
       "1           B                        98                 98"
      ]
     },
     "execution_count": 7,
     "metadata": {},
     "output_type": "execute_result"
    }
   ],
   "source": [
    "df.groupby('Марка стали').count().reset_index()"
   ]
  },
  {
   "cell_type": "markdown",
   "metadata": {},
   "source": [
    "Теперь посмотрим некоторые статистические показатели. Среднее количество бракованных листов в партии - 3 штуки, средняя скорость прокатки - 4.5 м/с."
   ]
  },
  {
   "cell_type": "code",
   "execution_count": 8,
   "metadata": {},
   "outputs": [
    {
     "data": {
      "text/html": [
       "<div>\n",
       "<style scoped>\n",
       "    .dataframe tbody tr th:only-of-type {\n",
       "        vertical-align: middle;\n",
       "    }\n",
       "\n",
       "    .dataframe tbody tr th {\n",
       "        vertical-align: top;\n",
       "    }\n",
       "\n",
       "    .dataframe thead th {\n",
       "        text-align: right;\n",
       "    }\n",
       "</style>\n",
       "<table border=\"1\" class=\"dataframe\">\n",
       "  <thead>\n",
       "    <tr style=\"text-align: right;\">\n",
       "      <th></th>\n",
       "      <th>Число бракованных листов</th>\n",
       "      <th>Скорость прокатки</th>\n",
       "    </tr>\n",
       "  </thead>\n",
       "  <tbody>\n",
       "    <tr>\n",
       "      <th>count</th>\n",
       "      <td>237.000000</td>\n",
       "      <td>237.000000</td>\n",
       "    </tr>\n",
       "    <tr>\n",
       "      <th>mean</th>\n",
       "      <td>3.257384</td>\n",
       "      <td>4.509705</td>\n",
       "    </tr>\n",
       "    <tr>\n",
       "      <th>std</th>\n",
       "      <td>1.807821</td>\n",
       "      <td>0.696260</td>\n",
       "    </tr>\n",
       "    <tr>\n",
       "      <th>min</th>\n",
       "      <td>0.000000</td>\n",
       "      <td>2.500000</td>\n",
       "    </tr>\n",
       "    <tr>\n",
       "      <th>25%</th>\n",
       "      <td>2.000000</td>\n",
       "      <td>4.100000</td>\n",
       "    </tr>\n",
       "    <tr>\n",
       "      <th>50%</th>\n",
       "      <td>3.000000</td>\n",
       "      <td>4.600000</td>\n",
       "    </tr>\n",
       "    <tr>\n",
       "      <th>75%</th>\n",
       "      <td>4.000000</td>\n",
       "      <td>5.000000</td>\n",
       "    </tr>\n",
       "    <tr>\n",
       "      <th>max</th>\n",
       "      <td>8.000000</td>\n",
       "      <td>6.500000</td>\n",
       "    </tr>\n",
       "  </tbody>\n",
       "</table>\n",
       "</div>"
      ],
      "text/plain": [
       "       Число бракованных листов  Скорость прокатки\n",
       "count                237.000000         237.000000\n",
       "mean                   3.257384           4.509705\n",
       "std                    1.807821           0.696260\n",
       "min                    0.000000           2.500000\n",
       "25%                    2.000000           4.100000\n",
       "50%                    3.000000           4.600000\n",
       "75%                    4.000000           5.000000\n",
       "max                    8.000000           6.500000"
      ]
     },
     "execution_count": 8,
     "metadata": {},
     "output_type": "execute_result"
    }
   ],
   "source": [
    "df.describe()"
   ]
  },
  {
   "cell_type": "markdown",
   "metadata": {},
   "source": [
    "Поистроим гистограмму распределения по числу бракованных листов.\n",
    "\n",
    "Распределение близко к нормальному. Чаще всего в партии 2-4 бракованных листа. Реже всего встречаются партии с 8 бракованными листами или без бракованных листов."
   ]
  },
  {
   "cell_type": "code",
   "execution_count": 9,
   "metadata": {},
   "outputs": [
    {
     "data": {
      "text/plain": [
       "Text(0, 0.5, 'Партий')"
      ]
     },
     "execution_count": 9,
     "metadata": {},
     "output_type": "execute_result"
    },
    {
     "data": {
      "image/png": "[encoded data removed]",
      "text/plain": [
       "<Figure size 432x288 with 1 Axes>"
      ]
     },
     "metadata": {
      "needs_background": "light"
     },
     "output_type": "display_data"
    }
   ],
   "source": [
    "ax = df['Число бракованных листов'].hist(bins=17)\n",
    "ax.set_title('Распределение по числу бракованных листов')\n",
    "ax.set_xlabel('Число бракованных листов')\n",
    "ax.set_ylabel('Партий')"
   ]
  },
  {
   "cell_type": "markdown",
   "metadata": {},
   "source": [
    "Проверим, значительно ли чаще выходит больше 3-х бракованных листов на партию для марки А, чем для марки В?\n",
    "В абсолютном выражении число партий с 4 и более бракованными листами для марки А больше, но так как количество партий по маркам не сбалансировано, то надо смотреть в относительном выражении."
   ]
  },
  {
   "cell_type": "code",
   "execution_count": 10,
   "metadata": {},
   "outputs": [
    {
     "data": {
      "text/html": [
       "<div>\n",
       "<style scoped>\n",
       "    .dataframe tbody tr th:only-of-type {\n",
       "        vertical-align: middle;\n",
       "    }\n",
       "\n",
       "    .dataframe tbody tr th {\n",
       "        vertical-align: top;\n",
       "    }\n",
       "\n",
       "    .dataframe thead th {\n",
       "        text-align: right;\n",
       "    }\n",
       "</style>\n",
       "<table border=\"1\" class=\"dataframe\">\n",
       "  <thead>\n",
       "    <tr style=\"text-align: right;\">\n",
       "      <th></th>\n",
       "      <th>Марка стали</th>\n",
       "      <th>Число бракованных листов</th>\n",
       "      <th>Скорость прокатки</th>\n",
       "    </tr>\n",
       "  </thead>\n",
       "  <tbody>\n",
       "    <tr>\n",
       "      <th>0</th>\n",
       "      <td>A</td>\n",
       "      <td>53</td>\n",
       "      <td>53</td>\n",
       "    </tr>\n",
       "    <tr>\n",
       "      <th>1</th>\n",
       "      <td>B</td>\n",
       "      <td>44</td>\n",
       "      <td>44</td>\n",
       "    </tr>\n",
       "  </tbody>\n",
       "</table>\n",
       "</div>"
      ],
      "text/plain": [
       "  Марка стали  Число бракованных листов  Скорость прокатки\n",
       "0           A                        53                 53\n",
       "1           B                        44                 44"
      ]
     },
     "execution_count": 10,
     "metadata": {},
     "output_type": "execute_result"
    }
   ],
   "source": [
    "df[df['Число бракованных листов'] > 3].groupby('Марка стали').count().reset_index()"
   ]
  },
  {
   "cell_type": "markdown",
   "metadata": {},
   "source": [
    "#### Для стали марки А доля партий с 4 и более бракованными листами ниже, чем для марки В."
   ]
  },
  {
   "cell_type": "code",
   "execution_count": 11,
   "metadata": {},
   "outputs": [
    {
     "name": "stdout",
     "output_type": "stream",
     "text": [
      "Доля партий с 4 и более бракованными листами для марки стали А: 38.1%\n",
      "Доля партий с 4 и более бракованными листами для марки стали B: 44.9%\n"
     ]
    }
   ],
   "source": [
    "print(f'Доля партий с 4 и более бракованными листами для марки стали А: {round(53/139*100, 1)}%')\n",
    "print(f'Доля партий с 4 и более бракованными листами для марки стали B: {round(44/98*100, 1)}%')"
   ]
  },
  {
   "cell_type": "markdown",
   "metadata": {},
   "source": [
    "Теперь перейдем к скорости прокатки. Распределение скорости прокатки также близко к нормальному. Скорость прокатки варьируется от 2.5 до 6.5 м/с:"
   ]
  },
  {
   "cell_type": "code",
   "execution_count": 12,
   "metadata": {},
   "outputs": [
    {
     "data": {
      "text/plain": [
       "Text(0, 0.5, 'партий')"
      ]
     },
     "execution_count": 12,
     "metadata": {},
     "output_type": "execute_result"
    },
    {
     "data": {
      "image/png": "[encoded data removed]",
      "text/plain": [
       "<Figure size 432x288 with 1 Axes>"
      ]
     },
     "metadata": {
      "needs_background": "light"
     },
     "output_type": "display_data"
    }
   ],
   "source": [
    "ax = df['Скорость прокатки'].hist()\n",
    "ax.set_title('Распределение по скорости прокатки')\n",
    "ax.set_xlabel('Скорость прокатки')\n",
    "ax.set_ylabel('партий')"
   ]
  },
  {
   "cell_type": "markdown",
   "metadata": {},
   "source": [
    "Посмотрим количество партий с более, чем 3 бракованными листами при скорости прокатки больше 4 м/с: 74 штуки."
   ]
  },
  {
   "cell_type": "code",
   "execution_count": 300,
   "metadata": {},
   "outputs": [
    {
     "data": {
      "text/plain": [
       "74"
      ]
     },
     "execution_count": 300,
     "metadata": {},
     "output_type": "execute_result"
    }
   ],
   "source": [
    "df[(df['Число бракованных листов'] > 3) & (df['Скорость прокатки'] > 4)]['Число бракованных листов'].count()"
   ]
  },
  {
   "cell_type": "markdown",
   "metadata": {},
   "source": [
    "Со скоростью 4 и менее: 23"
   ]
  },
  {
   "cell_type": "code",
   "execution_count": 301,
   "metadata": {},
   "outputs": [
    {
     "data": {
      "text/plain": [
       "23"
      ]
     },
     "execution_count": 301,
     "metadata": {},
     "output_type": "execute_result"
    }
   ],
   "source": [
    "df[(df['Число бракованных листов'] > 3) & (df['Скорость прокатки'] <= 4)]['Число бракованных листов'].count()"
   ]
  },
  {
   "cell_type": "markdown",
   "metadata": {},
   "source": [
    "#### Таким образом, при скорости прокатки более 4 м/с, партии с 4+ бракованными листами встречаются в 3 раза чаще"
   ]
  },
  {
   "cell_type": "markdown",
   "metadata": {},
   "source": [
    "Но при этом, корреляция между скоростью прокатки и количеством бракованных листов отсутствует:"
   ]
  },
  {
   "cell_type": "code",
   "execution_count": 276,
   "metadata": {},
   "outputs": [
    {
     "data": {
      "text/html": [
       "<div>\n",
       "<style scoped>\n",
       "    .dataframe tbody tr th:only-of-type {\n",
       "        vertical-align: middle;\n",
       "    }\n",
       "\n",
       "    .dataframe tbody tr th {\n",
       "        vertical-align: top;\n",
       "    }\n",
       "\n",
       "    .dataframe thead th {\n",
       "        text-align: right;\n",
       "    }\n",
       "</style>\n",
       "<table border=\"1\" class=\"dataframe\">\n",
       "  <thead>\n",
       "    <tr style=\"text-align: right;\">\n",
       "      <th></th>\n",
       "      <th>Число бракованных листов</th>\n",
       "      <th>Скорость прокатки</th>\n",
       "    </tr>\n",
       "  </thead>\n",
       "  <tbody>\n",
       "    <tr>\n",
       "      <th>Число бракованных листов</th>\n",
       "      <td>1.000000</td>\n",
       "      <td>0.011473</td>\n",
       "    </tr>\n",
       "    <tr>\n",
       "      <th>Скорость прокатки</th>\n",
       "      <td>0.011473</td>\n",
       "      <td>1.000000</td>\n",
       "    </tr>\n",
       "  </tbody>\n",
       "</table>\n",
       "</div>"
      ],
      "text/plain": [
       "                          Число бракованных листов  Скорость прокатки\n",
       "Число бракованных листов                  1.000000           0.011473\n",
       "Скорость прокатки                         0.011473           1.000000"
      ]
     },
     "execution_count": 276,
     "metadata": {},
     "output_type": "execute_result"
    }
   ],
   "source": [
    "df.corr()"
   ]
  },
  {
   "cell_type": "code",
   "execution_count": 13,
   "metadata": {},
   "outputs": [
    {
     "data": {
      "text/plain": [
       "<seaborn.axisgrid.JointGrid at 0x182f899abe0>"
      ]
     },
     "execution_count": 13,
     "metadata": {},
     "output_type": "execute_result"
    },
    {
     "data": {
      "image/png": "[encoded data removed]",
      "text/plain": [
       "<Figure size 432x432 with 3 Axes>"
      ]
     },
     "metadata": {
      "needs_background": "light"
     },
     "output_type": "display_data"
    }
   ],
   "source": [
    "sns.jointplot(x='Скорость прокатки', y='Число бракованных листов', \n",
    "              data=df, kind='reg')"
   ]
  },
  {
   "cell_type": "code",
   "execution_count": null,
   "metadata": {},
   "outputs": [],
   "source": []
  },
  {
   "cell_type": "markdown",
   "metadata": {},
   "source": [
    "## Задание 2"
   ]
  },
  {
   "cell_type": "markdown",
   "metadata": {},
   "source": [
    "Вам необходимо построить модель, которая на основании данных, поступающих каждую минуту, определяют качество продукции, производимое на обжиговой машине.\n",
    "\n",
    "Обжиговая машина представляет собой агрегат, состоящий из 5 одинаковых по размеру камер, в каждой камере установлено по 3 датчика температур. Кроме этого, для данной задачи Вы собрали данные о высоте слоя сырья и его влажности. Высота слоя и влажность измеряются при входе сырья в машину. Сырье проходит через обжиговую машину за час.\n",
    "\n",
    "Качество продукции измеряется в лаборатории по пробам, которые забираются каждый час, данные по известным анализам содержатся в файле Y_train.csv. В файле указано время забора пробы, проба забирается на выходе из обжиговой машины.\n",
    "\n",
    "Вы договорились с заказчиком, что оценкой модели будет являться показатель MAE, для оценки модели необходимо сгенерировать предсказания за период, указанный в файле Y_submit.csv (5808 предиктов).\n"
   ]
  },
  {
   "cell_type": "markdown",
   "metadata": {},
   "source": [
    "Загрузим данные и посмотрим структуру файлов:"
   ]
  },
  {
   "cell_type": "code",
   "execution_count": 182,
   "metadata": {},
   "outputs": [],
   "source": [
    "x_data = pd.read_csv('X_data.csv', sep = ';')\n",
    "y_submit = pd.read_csv('Y_submit.csv', encoding = 'cp1251', sep = ';', header= None)\n",
    "y_train = pd.read_csv('Y_train.csv', encoding = 'cp1251', sep = ';', header= None)"
   ]
  },
  {
   "cell_type": "code",
   "execution_count": 183,
   "metadata": {},
   "outputs": [
    {
     "data": {
      "text/html": [
       "<div>\n",
       "<style scoped>\n",
       "    .dataframe tbody tr th:only-of-type {\n",
       "        vertical-align: middle;\n",
       "    }\n",
       "\n",
       "    .dataframe tbody tr th {\n",
       "        vertical-align: top;\n",
       "    }\n",
       "\n",
       "    .dataframe thead th {\n",
       "        text-align: right;\n",
       "    }\n",
       "</style>\n",
       "<table border=\"1\" class=\"dataframe\">\n",
       "  <thead>\n",
       "    <tr style=\"text-align: right;\">\n",
       "      <th></th>\n",
       "      <th>DT_x</th>\n",
       "      <th>T_data_1_1</th>\n",
       "      <th>T_data_1_2</th>\n",
       "      <th>T_data_1_3</th>\n",
       "      <th>T_data_2_1</th>\n",
       "      <th>T_data_2_2</th>\n",
       "      <th>T_data_2_3</th>\n",
       "      <th>T_data_3_1</th>\n",
       "      <th>T_data_3_2</th>\n",
       "      <th>T_data_3_3</th>\n",
       "      <th>T_data_4_1</th>\n",
       "      <th>T_data_4_2</th>\n",
       "      <th>T_data_4_3</th>\n",
       "      <th>T_data_5_1</th>\n",
       "      <th>T_data_5_2</th>\n",
       "      <th>T_data_5_3</th>\n",
       "      <th>H_data</th>\n",
       "      <th>AH_data</th>\n",
       "    </tr>\n",
       "  </thead>\n",
       "  <tbody>\n",
       "    <tr>\n",
       "      <th>0</th>\n",
       "      <td>2015-01-01 00:00:00</td>\n",
       "      <td>212</td>\n",
       "      <td>210</td>\n",
       "      <td>211</td>\n",
       "      <td>347</td>\n",
       "      <td>353</td>\n",
       "      <td>347</td>\n",
       "      <td>474</td>\n",
       "      <td>473</td>\n",
       "      <td>481</td>\n",
       "      <td>346</td>\n",
       "      <td>348</td>\n",
       "      <td>355</td>\n",
       "      <td>241</td>\n",
       "      <td>241</td>\n",
       "      <td>243</td>\n",
       "      <td>167.85</td>\n",
       "      <td>9.22</td>\n",
       "    </tr>\n",
       "    <tr>\n",
       "      <th>1</th>\n",
       "      <td>2015-01-01 00:01:00</td>\n",
       "      <td>212</td>\n",
       "      <td>211</td>\n",
       "      <td>211</td>\n",
       "      <td>346</td>\n",
       "      <td>352</td>\n",
       "      <td>346</td>\n",
       "      <td>475</td>\n",
       "      <td>473</td>\n",
       "      <td>481</td>\n",
       "      <td>349</td>\n",
       "      <td>348</td>\n",
       "      <td>355</td>\n",
       "      <td>241</td>\n",
       "      <td>241</td>\n",
       "      <td>243</td>\n",
       "      <td>162.51</td>\n",
       "      <td>9.22</td>\n",
       "    </tr>\n",
       "    <tr>\n",
       "      <th>2</th>\n",
       "      <td>2015-01-01 00:02:00</td>\n",
       "      <td>212</td>\n",
       "      <td>211</td>\n",
       "      <td>211</td>\n",
       "      <td>345</td>\n",
       "      <td>352</td>\n",
       "      <td>346</td>\n",
       "      <td>476</td>\n",
       "      <td>473</td>\n",
       "      <td>481</td>\n",
       "      <td>352</td>\n",
       "      <td>349</td>\n",
       "      <td>355</td>\n",
       "      <td>242</td>\n",
       "      <td>241</td>\n",
       "      <td>242</td>\n",
       "      <td>164.99</td>\n",
       "      <td>9.22</td>\n",
       "    </tr>\n",
       "    <tr>\n",
       "      <th>3</th>\n",
       "      <td>2015-01-01 00:03:00</td>\n",
       "      <td>213</td>\n",
       "      <td>211</td>\n",
       "      <td>211</td>\n",
       "      <td>344</td>\n",
       "      <td>351</td>\n",
       "      <td>346</td>\n",
       "      <td>477</td>\n",
       "      <td>473</td>\n",
       "      <td>481</td>\n",
       "      <td>355</td>\n",
       "      <td>349</td>\n",
       "      <td>355</td>\n",
       "      <td>242</td>\n",
       "      <td>241</td>\n",
       "      <td>242</td>\n",
       "      <td>167.34</td>\n",
       "      <td>9.22</td>\n",
       "    </tr>\n",
       "    <tr>\n",
       "      <th>4</th>\n",
       "      <td>2015-01-01 00:04:00</td>\n",
       "      <td>213</td>\n",
       "      <td>211</td>\n",
       "      <td>211</td>\n",
       "      <td>343</td>\n",
       "      <td>350</td>\n",
       "      <td>346</td>\n",
       "      <td>478</td>\n",
       "      <td>473</td>\n",
       "      <td>482</td>\n",
       "      <td>358</td>\n",
       "      <td>349</td>\n",
       "      <td>355</td>\n",
       "      <td>243</td>\n",
       "      <td>241</td>\n",
       "      <td>242</td>\n",
       "      <td>163.04</td>\n",
       "      <td>9.22</td>\n",
       "    </tr>\n",
       "  </tbody>\n",
       "</table>\n",
       "</div>"
      ],
      "text/plain": [
       "                  DT_x  T_data_1_1  T_data_1_2  T_data_1_3  T_data_2_1  \\\n",
       "0  2015-01-01 00:00:00         212         210         211         347   \n",
       "1  2015-01-01 00:01:00         212         211         211         346   \n",
       "2  2015-01-01 00:02:00         212         211         211         345   \n",
       "3  2015-01-01 00:03:00         213         211         211         344   \n",
       "4  2015-01-01 00:04:00         213         211         211         343   \n",
       "\n",
       "   T_data_2_2  T_data_2_3  T_data_3_1  T_data_3_2  T_data_3_3  T_data_4_1  \\\n",
       "0         353         347         474         473         481         346   \n",
       "1         352         346         475         473         481         349   \n",
       "2         352         346         476         473         481         352   \n",
       "3         351         346         477         473         481         355   \n",
       "4         350         346         478         473         482         358   \n",
       "\n",
       "   T_data_4_2  T_data_4_3  T_data_5_1  T_data_5_2  T_data_5_3  H_data  AH_data  \n",
       "0         348         355         241         241         243  167.85     9.22  \n",
       "1         348         355         241         241         243  162.51     9.22  \n",
       "2         349         355         242         241         242  164.99     9.22  \n",
       "3         349         355         242         241         242  167.34     9.22  \n",
       "4         349         355         243         241         242  163.04     9.22  "
      ]
     },
     "execution_count": 183,
     "metadata": {},
     "output_type": "execute_result"
    }
   ],
   "source": [
    "x_data.rename(columns={'Unnamed: 0': 'DT_x'}, inplace=True)\n",
    "x_data.head()"
   ]
  },
  {
   "cell_type": "markdown",
   "metadata": {},
   "source": [
    "В файле 18 параметров и более 2 млн измерений:"
   ]
  },
  {
   "cell_type": "code",
   "execution_count": 184,
   "metadata": {},
   "outputs": [
    {
     "data": {
      "text/plain": [
       "(2103841, 18)"
      ]
     },
     "execution_count": 184,
     "metadata": {},
     "output_type": "execute_result"
    }
   ],
   "source": [
    "x_data.shape"
   ]
  },
  {
   "cell_type": "markdown",
   "metadata": {},
   "source": [
    "Результатов проб значительно меньше:"
   ]
  },
  {
   "cell_type": "code",
   "execution_count": 185,
   "metadata": {},
   "outputs": [
    {
     "data": {
      "text/html": [
       "<div>\n",
       "<style scoped>\n",
       "    .dataframe tbody tr th:only-of-type {\n",
       "        vertical-align: middle;\n",
       "    }\n",
       "\n",
       "    .dataframe tbody tr th {\n",
       "        vertical-align: top;\n",
       "    }\n",
       "\n",
       "    .dataframe thead th {\n",
       "        text-align: right;\n",
       "    }\n",
       "</style>\n",
       "<table border=\"1\" class=\"dataframe\">\n",
       "  <thead>\n",
       "    <tr style=\"text-align: right;\">\n",
       "      <th></th>\n",
       "      <th>DT_y</th>\n",
       "      <th>Quality</th>\n",
       "    </tr>\n",
       "  </thead>\n",
       "  <tbody>\n",
       "    <tr>\n",
       "      <th>29179</th>\n",
       "      <td>2018-05-03 19:05:00</td>\n",
       "      <td>438</td>\n",
       "    </tr>\n",
       "    <tr>\n",
       "      <th>29180</th>\n",
       "      <td>2018-05-03 20:05:00</td>\n",
       "      <td>452</td>\n",
       "    </tr>\n",
       "    <tr>\n",
       "      <th>29181</th>\n",
       "      <td>2018-05-03 21:05:00</td>\n",
       "      <td>455</td>\n",
       "    </tr>\n",
       "    <tr>\n",
       "      <th>29182</th>\n",
       "      <td>2018-05-03 22:05:00</td>\n",
       "      <td>455</td>\n",
       "    </tr>\n",
       "    <tr>\n",
       "      <th>29183</th>\n",
       "      <td>2018-05-03 23:05:00</td>\n",
       "      <td>454</td>\n",
       "    </tr>\n",
       "  </tbody>\n",
       "</table>\n",
       "</div>"
      ],
      "text/plain": [
       "                      DT_y  Quality\n",
       "29179  2018-05-03 19:05:00      438\n",
       "29180  2018-05-03 20:05:00      452\n",
       "29181  2018-05-03 21:05:00      455\n",
       "29182  2018-05-03 22:05:00      455\n",
       "29183  2018-05-03 23:05:00      454"
      ]
     },
     "execution_count": 185,
     "metadata": {},
     "output_type": "execute_result"
    }
   ],
   "source": [
    "y_train.rename(columns={0: 'DT_y', 1: 'Quality'}, inplace=True)\n",
    "y_train.tail()"
   ]
  },
  {
   "cell_type": "markdown",
   "metadata": {},
   "source": [
    "Структура файла для предиктов аналогична y_train:"
   ]
  },
  {
   "cell_type": "code",
   "execution_count": 186,
   "metadata": {},
   "outputs": [
    {
     "data": {
      "text/html": [
       "<div>\n",
       "<style scoped>\n",
       "    .dataframe tbody tr th:only-of-type {\n",
       "        vertical-align: middle;\n",
       "    }\n",
       "\n",
       "    .dataframe tbody tr th {\n",
       "        vertical-align: top;\n",
       "    }\n",
       "\n",
       "    .dataframe thead th {\n",
       "        text-align: right;\n",
       "    }\n",
       "</style>\n",
       "<table border=\"1\" class=\"dataframe\">\n",
       "  <thead>\n",
       "    <tr style=\"text-align: right;\">\n",
       "      <th></th>\n",
       "      <th>DT_y</th>\n",
       "      <th>Quality</th>\n",
       "    </tr>\n",
       "  </thead>\n",
       "  <tbody>\n",
       "    <tr>\n",
       "      <th>5803</th>\n",
       "      <td>2018-12-31 19:05:00</td>\n",
       "      <td>420</td>\n",
       "    </tr>\n",
       "    <tr>\n",
       "      <th>5804</th>\n",
       "      <td>2018-12-31 20:05:00</td>\n",
       "      <td>420</td>\n",
       "    </tr>\n",
       "    <tr>\n",
       "      <th>5805</th>\n",
       "      <td>2018-12-31 21:05:00</td>\n",
       "      <td>420</td>\n",
       "    </tr>\n",
       "    <tr>\n",
       "      <th>5806</th>\n",
       "      <td>2018-12-31 22:05:00</td>\n",
       "      <td>420</td>\n",
       "    </tr>\n",
       "    <tr>\n",
       "      <th>5807</th>\n",
       "      <td>2018-12-31 23:05:00</td>\n",
       "      <td>420</td>\n",
       "    </tr>\n",
       "  </tbody>\n",
       "</table>\n",
       "</div>"
      ],
      "text/plain": [
       "                     DT_y  Quality\n",
       "5803  2018-12-31 19:05:00      420\n",
       "5804  2018-12-31 20:05:00      420\n",
       "5805  2018-12-31 21:05:00      420\n",
       "5806  2018-12-31 22:05:00      420\n",
       "5807  2018-12-31 23:05:00      420"
      ]
     },
     "execution_count": 186,
     "metadata": {},
     "output_type": "execute_result"
    }
   ],
   "source": [
    "y_submit.rename(columns={0: 'DT_y', 1: 'Quality'}, inplace=True)\n",
    "y_submit.tail()"
   ]
  },
  {
   "cell_type": "markdown",
   "metadata": {},
   "source": [
    "Задачу планирую решать следующим образом: поскольку сырье проходит через обжиговую машину за час, то для каждой оценки качества я найду показания с приборов, которые были получены за час до таймстемпа качества. Остальные показания приборов я выброшу из обучающей выборки т.к. для них нет оценки качества. Далее, на получившемся датасете я обучу несколько алгоритмов, попробую подобрать оптимальные параметры, оценю качество по МАЕ и выберу лучшую из них. И далее уже сгенерирую предсказания.\n",
    "\n",
    "Для начала, необходимо перевести столбцы в нужный формат, чтобы работать с датой и временем:"
   ]
  },
  {
   "cell_type": "code",
   "execution_count": 187,
   "metadata": {},
   "outputs": [],
   "source": [
    "x_data['DT_x'] = pd.to_datetime(x_data['DT_x'], format='%Y-%m-%d %H:%M:%S')\n",
    "y_train['DT_y'] = pd.to_datetime(y_train['DT_y'], format='%Y-%m-%d %H:%M:%S')\n",
    "y_submit['DT_y'] = pd.to_datetime(y_submit['DT_y'], format='%Y-%m-%d %H:%M:%S')"
   ]
  },
  {
   "cell_type": "code",
   "execution_count": 188,
   "metadata": {},
   "outputs": [],
   "source": [
    "from datetime import timedelta"
   ]
  },
  {
   "cell_type": "markdown",
   "metadata": {},
   "source": [
    "Вычитаю из времени замера качества 1 час, т.е. нахожу время когда сырье входило в обжиговую машину:"
   ]
  },
  {
   "cell_type": "code",
   "execution_count": 189,
   "metadata": {},
   "outputs": [],
   "source": [
    "y_train['DT_x'] = y_train['DT_y'] - timedelta(hours = 1)\n",
    "y_submit['DT_x'] = y_submit['DT_y'] - timedelta(hours = 1)"
   ]
  },
  {
   "cell_type": "markdown",
   "metadata": {},
   "source": [
    "Для самопроверки корретности вычислений:"
   ]
  },
  {
   "cell_type": "code",
   "execution_count": 190,
   "metadata": {},
   "outputs": [
    {
     "data": {
      "text/html": [
       "<div>\n",
       "<style scoped>\n",
       "    .dataframe tbody tr th:only-of-type {\n",
       "        vertical-align: middle;\n",
       "    }\n",
       "\n",
       "    .dataframe tbody tr th {\n",
       "        vertical-align: top;\n",
       "    }\n",
       "\n",
       "    .dataframe thead th {\n",
       "        text-align: right;\n",
       "    }\n",
       "</style>\n",
       "<table border=\"1\" class=\"dataframe\">\n",
       "  <thead>\n",
       "    <tr style=\"text-align: right;\">\n",
       "      <th></th>\n",
       "      <th>DT_y</th>\n",
       "      <th>DT_x</th>\n",
       "    </tr>\n",
       "  </thead>\n",
       "  <tbody>\n",
       "    <tr>\n",
       "      <th>0</th>\n",
       "      <td>2015-01-04 00:05:00</td>\n",
       "      <td>2015-01-03 23:05:00</td>\n",
       "    </tr>\n",
       "    <tr>\n",
       "      <th>1</th>\n",
       "      <td>2015-01-04 01:05:00</td>\n",
       "      <td>2015-01-04 00:05:00</td>\n",
       "    </tr>\n",
       "    <tr>\n",
       "      <th>2</th>\n",
       "      <td>2015-01-04 02:05:00</td>\n",
       "      <td>2015-01-04 01:05:00</td>\n",
       "    </tr>\n",
       "    <tr>\n",
       "      <th>3</th>\n",
       "      <td>2015-01-04 03:05:00</td>\n",
       "      <td>2015-01-04 02:05:00</td>\n",
       "    </tr>\n",
       "    <tr>\n",
       "      <th>4</th>\n",
       "      <td>2015-01-04 04:05:00</td>\n",
       "      <td>2015-01-04 03:05:00</td>\n",
       "    </tr>\n",
       "  </tbody>\n",
       "</table>\n",
       "</div>"
      ],
      "text/plain": [
       "                 DT_y                DT_x\n",
       "0 2015-01-04 00:05:00 2015-01-03 23:05:00\n",
       "1 2015-01-04 01:05:00 2015-01-04 00:05:00\n",
       "2 2015-01-04 02:05:00 2015-01-04 01:05:00\n",
       "3 2015-01-04 03:05:00 2015-01-04 02:05:00\n",
       "4 2015-01-04 04:05:00 2015-01-04 03:05:00"
      ]
     },
     "execution_count": 190,
     "metadata": {},
     "output_type": "execute_result"
    }
   ],
   "source": [
    "y_train[['DT_y', 'DT_x']].head()"
   ]
  },
  {
   "cell_type": "markdown",
   "metadata": {},
   "source": [
    "Теперь через получившиеся значения времени объединю с датафреймом показателей счетчиков:"
   ]
  },
  {
   "cell_type": "code",
   "execution_count": 191,
   "metadata": {},
   "outputs": [],
   "source": [
    "df_train = pd.merge(y_train, x_data, on = 'DT_x', how = 'left')"
   ]
  },
  {
   "cell_type": "code",
   "execution_count": 192,
   "metadata": {},
   "outputs": [
    {
     "data": {
      "text/html": [
       "<div>\n",
       "<style scoped>\n",
       "    .dataframe tbody tr th:only-of-type {\n",
       "        vertical-align: middle;\n",
       "    }\n",
       "\n",
       "    .dataframe tbody tr th {\n",
       "        vertical-align: top;\n",
       "    }\n",
       "\n",
       "    .dataframe thead th {\n",
       "        text-align: right;\n",
       "    }\n",
       "</style>\n",
       "<table border=\"1\" class=\"dataframe\">\n",
       "  <thead>\n",
       "    <tr style=\"text-align: right;\">\n",
       "      <th></th>\n",
       "      <th>DT_y</th>\n",
       "      <th>Quality</th>\n",
       "      <th>DT_x</th>\n",
       "      <th>T_data_1_1</th>\n",
       "      <th>T_data_1_2</th>\n",
       "      <th>T_data_1_3</th>\n",
       "      <th>T_data_2_1</th>\n",
       "      <th>T_data_2_2</th>\n",
       "      <th>T_data_2_3</th>\n",
       "      <th>T_data_3_1</th>\n",
       "      <th>T_data_3_2</th>\n",
       "      <th>T_data_3_3</th>\n",
       "      <th>T_data_4_1</th>\n",
       "      <th>T_data_4_2</th>\n",
       "      <th>T_data_4_3</th>\n",
       "      <th>T_data_5_1</th>\n",
       "      <th>T_data_5_2</th>\n",
       "      <th>T_data_5_3</th>\n",
       "      <th>H_data</th>\n",
       "      <th>AH_data</th>\n",
       "    </tr>\n",
       "  </thead>\n",
       "  <tbody>\n",
       "    <tr>\n",
       "      <th>29179</th>\n",
       "      <td>2018-05-03 19:05:00</td>\n",
       "      <td>438</td>\n",
       "      <td>2018-05-03 18:05:00</td>\n",
       "      <td>256</td>\n",
       "      <td>249</td>\n",
       "      <td>261</td>\n",
       "      <td>381</td>\n",
       "      <td>388</td>\n",
       "      <td>367</td>\n",
       "      <td>456</td>\n",
       "      <td>327</td>\n",
       "      <td>465</td>\n",
       "      <td>357</td>\n",
       "      <td>356</td>\n",
       "      <td>350</td>\n",
       "      <td>242</td>\n",
       "      <td>258</td>\n",
       "      <td>261</td>\n",
       "      <td>156.23</td>\n",
       "      <td>7.79</td>\n",
       "    </tr>\n",
       "    <tr>\n",
       "      <th>29180</th>\n",
       "      <td>2018-05-03 20:05:00</td>\n",
       "      <td>452</td>\n",
       "      <td>2018-05-03 19:05:00</td>\n",
       "      <td>257</td>\n",
       "      <td>258</td>\n",
       "      <td>266</td>\n",
       "      <td>379</td>\n",
       "      <td>381</td>\n",
       "      <td>358</td>\n",
       "      <td>449</td>\n",
       "      <td>386</td>\n",
       "      <td>461</td>\n",
       "      <td>354</td>\n",
       "      <td>350</td>\n",
       "      <td>349</td>\n",
       "      <td>234</td>\n",
       "      <td>254</td>\n",
       "      <td>252</td>\n",
       "      <td>157.47</td>\n",
       "      <td>7.33</td>\n",
       "    </tr>\n",
       "    <tr>\n",
       "      <th>29181</th>\n",
       "      <td>2018-05-03 21:05:00</td>\n",
       "      <td>455</td>\n",
       "      <td>2018-05-03 20:05:00</td>\n",
       "      <td>259</td>\n",
       "      <td>255</td>\n",
       "      <td>260</td>\n",
       "      <td>372</td>\n",
       "      <td>367</td>\n",
       "      <td>362</td>\n",
       "      <td>431</td>\n",
       "      <td>461</td>\n",
       "      <td>453</td>\n",
       "      <td>360</td>\n",
       "      <td>344</td>\n",
       "      <td>348</td>\n",
       "      <td>235</td>\n",
       "      <td>253</td>\n",
       "      <td>247</td>\n",
       "      <td>157.17</td>\n",
       "      <td>7.87</td>\n",
       "    </tr>\n",
       "    <tr>\n",
       "      <th>29182</th>\n",
       "      <td>2018-05-03 22:05:00</td>\n",
       "      <td>455</td>\n",
       "      <td>2018-05-03 21:05:00</td>\n",
       "      <td>260</td>\n",
       "      <td>254</td>\n",
       "      <td>263</td>\n",
       "      <td>364</td>\n",
       "      <td>349</td>\n",
       "      <td>352</td>\n",
       "      <td>429</td>\n",
       "      <td>425</td>\n",
       "      <td>446</td>\n",
       "      <td>348</td>\n",
       "      <td>360</td>\n",
       "      <td>345</td>\n",
       "      <td>256</td>\n",
       "      <td>257</td>\n",
       "      <td>247</td>\n",
       "      <td>155.00</td>\n",
       "      <td>7.65</td>\n",
       "    </tr>\n",
       "    <tr>\n",
       "      <th>29183</th>\n",
       "      <td>2018-05-03 23:05:00</td>\n",
       "      <td>454</td>\n",
       "      <td>2018-05-03 22:05:00</td>\n",
       "      <td>255</td>\n",
       "      <td>255</td>\n",
       "      <td>260</td>\n",
       "      <td>356</td>\n",
       "      <td>352</td>\n",
       "      <td>354</td>\n",
       "      <td>438</td>\n",
       "      <td>468</td>\n",
       "      <td>441</td>\n",
       "      <td>347</td>\n",
       "      <td>357</td>\n",
       "      <td>344</td>\n",
       "      <td>254</td>\n",
       "      <td>265</td>\n",
       "      <td>248</td>\n",
       "      <td>153.89</td>\n",
       "      <td>8.90</td>\n",
       "    </tr>\n",
       "  </tbody>\n",
       "</table>\n",
       "</div>"
      ],
      "text/plain": [
       "                     DT_y  Quality                DT_x  T_data_1_1  \\\n",
       "29179 2018-05-03 19:05:00      438 2018-05-03 18:05:00         256   \n",
       "29180 2018-05-03 20:05:00      452 2018-05-03 19:05:00         257   \n",
       "29181 2018-05-03 21:05:00      455 2018-05-03 20:05:00         259   \n",
       "29182 2018-05-03 22:05:00      455 2018-05-03 21:05:00         260   \n",
       "29183 2018-05-03 23:05:00      454 2018-05-03 22:05:00         255   \n",
       "\n",
       "       T_data_1_2  T_data_1_3  T_data_2_1  T_data_2_2  T_data_2_3  T_data_3_1  \\\n",
       "29179         249         261         381         388         367         456   \n",
       "29180         258         266         379         381         358         449   \n",
       "29181         255         260         372         367         362         431   \n",
       "29182         254         263         364         349         352         429   \n",
       "29183         255         260         356         352         354         438   \n",
       "\n",
       "       T_data_3_2  T_data_3_3  T_data_4_1  T_data_4_2  T_data_4_3  T_data_5_1  \\\n",
       "29179         327         465         357         356         350         242   \n",
       "29180         386         461         354         350         349         234   \n",
       "29181         461         453         360         344         348         235   \n",
       "29182         425         446         348         360         345         256   \n",
       "29183         468         441         347         357         344         254   \n",
       "\n",
       "       T_data_5_2  T_data_5_3  H_data  AH_data  \n",
       "29179         258         261  156.23     7.79  \n",
       "29180         254         252  157.47     7.33  \n",
       "29181         253         247  157.17     7.87  \n",
       "29182         257         247  155.00     7.65  \n",
       "29183         265         248  153.89     8.90  "
      ]
     },
     "execution_count": 192,
     "metadata": {},
     "output_type": "execute_result"
    }
   ],
   "source": [
    "df_train.tail()"
   ]
  },
  {
   "cell_type": "markdown",
   "metadata": {},
   "source": [
    "Для каждой оценки качества нашлась соответсвующая пара в таблице с измерениями. Пропусков данных в получившемся датафрейме нет"
   ]
  },
  {
   "cell_type": "code",
   "execution_count": 193,
   "metadata": {},
   "outputs": [
    {
     "name": "stdout",
     "output_type": "stream",
     "text": [
      "<class 'pandas.core.frame.DataFrame'>\n",
      "Int64Index: 29184 entries, 0 to 29183\n",
      "Data columns (total 20 columns):\n",
      "DT_y          29184 non-null datetime64[ns]\n",
      "Quality       29184 non-null int64\n",
      "DT_x          29184 non-null datetime64[ns]\n",
      "T_data_1_1    29184 non-null int64\n",
      "T_data_1_2    29184 non-null int64\n",
      "T_data_1_3    29184 non-null int64\n",
      "T_data_2_1    29184 non-null int64\n",
      "T_data_2_2    29184 non-null int64\n",
      "T_data_2_3    29184 non-null int64\n",
      "T_data_3_1    29184 non-null int64\n",
      "T_data_3_2    29184 non-null int64\n",
      "T_data_3_3    29184 non-null int64\n",
      "T_data_4_1    29184 non-null int64\n",
      "T_data_4_2    29184 non-null int64\n",
      "T_data_4_3    29184 non-null int64\n",
      "T_data_5_1    29184 non-null int64\n",
      "T_data_5_2    29184 non-null int64\n",
      "T_data_5_3    29184 non-null int64\n",
      "H_data        29184 non-null float64\n",
      "AH_data       29184 non-null float64\n",
      "dtypes: datetime64[ns](2), float64(2), int64(16)\n",
      "memory usage: 4.7 MB\n"
     ]
    }
   ],
   "source": [
    "df_train.info()"
   ]
  },
  {
   "cell_type": "markdown",
   "metadata": {},
   "source": [
    "Проверка на возможные дубликаты в дф, их нет:"
   ]
  },
  {
   "cell_type": "code",
   "execution_count": 194,
   "metadata": {},
   "outputs": [
    {
     "data": {
      "text/plain": [
       "(29184, 20)"
      ]
     },
     "execution_count": 194,
     "metadata": {},
     "output_type": "execute_result"
    }
   ],
   "source": [
    "df_train2 = df_train.drop_duplicates()\n",
    "df_train2.shape"
   ]
  },
  {
   "cell_type": "markdown",
   "metadata": {},
   "source": [
    "Посмотрим некоторые статистические показатели. В глаза бросаются отрицательные минимальные значения температур. По логике, в обжиговой камере очень высокие температуры и никак не отрицательные:"
   ]
  },
  {
   "cell_type": "code",
   "execution_count": 195,
   "metadata": {},
   "outputs": [
    {
     "data": {
      "text/html": [
       "<div>\n",
       "<style scoped>\n",
       "    .dataframe tbody tr th:only-of-type {\n",
       "        vertical-align: middle;\n",
       "    }\n",
       "\n",
       "    .dataframe tbody tr th {\n",
       "        vertical-align: top;\n",
       "    }\n",
       "\n",
       "    .dataframe thead th {\n",
       "        text-align: right;\n",
       "    }\n",
       "</style>\n",
       "<table border=\"1\" class=\"dataframe\">\n",
       "  <thead>\n",
       "    <tr style=\"text-align: right;\">\n",
       "      <th></th>\n",
       "      <th>Quality</th>\n",
       "      <th>T_data_1_1</th>\n",
       "      <th>T_data_1_2</th>\n",
       "      <th>T_data_1_3</th>\n",
       "      <th>T_data_2_1</th>\n",
       "      <th>T_data_2_2</th>\n",
       "      <th>T_data_2_3</th>\n",
       "      <th>T_data_3_1</th>\n",
       "      <th>T_data_3_2</th>\n",
       "      <th>T_data_3_3</th>\n",
       "      <th>T_data_4_1</th>\n",
       "      <th>T_data_4_2</th>\n",
       "      <th>T_data_4_3</th>\n",
       "      <th>T_data_5_1</th>\n",
       "      <th>T_data_5_2</th>\n",
       "      <th>T_data_5_3</th>\n",
       "      <th>H_data</th>\n",
       "      <th>AH_data</th>\n",
       "    </tr>\n",
       "  </thead>\n",
       "  <tbody>\n",
       "    <tr>\n",
       "      <th>count</th>\n",
       "      <td>29184.000000</td>\n",
       "      <td>29184.000000</td>\n",
       "      <td>29184.000000</td>\n",
       "      <td>29184.000000</td>\n",
       "      <td>29184.000000</td>\n",
       "      <td>29184.000000</td>\n",
       "      <td>29184.000000</td>\n",
       "      <td>29184.000000</td>\n",
       "      <td>29184.000000</td>\n",
       "      <td>29184.000000</td>\n",
       "      <td>29184.000000</td>\n",
       "      <td>29184.000000</td>\n",
       "      <td>29184.000000</td>\n",
       "      <td>29184.000000</td>\n",
       "      <td>29184.000000</td>\n",
       "      <td>29184.000000</td>\n",
       "      <td>29184.000000</td>\n",
       "      <td>29184.000000</td>\n",
       "    </tr>\n",
       "    <tr>\n",
       "      <th>mean</th>\n",
       "      <td>402.800747</td>\n",
       "      <td>250.034677</td>\n",
       "      <td>249.816989</td>\n",
       "      <td>250.152823</td>\n",
       "      <td>349.802529</td>\n",
       "      <td>349.717071</td>\n",
       "      <td>349.950898</td>\n",
       "      <td>501.164439</td>\n",
       "      <td>500.919511</td>\n",
       "      <td>501.321580</td>\n",
       "      <td>348.955626</td>\n",
       "      <td>348.952200</td>\n",
       "      <td>349.673691</td>\n",
       "      <td>249.799925</td>\n",
       "      <td>249.670676</td>\n",
       "      <td>249.848684</td>\n",
       "      <td>174.749959</td>\n",
       "      <td>7.500540</td>\n",
       "    </tr>\n",
       "    <tr>\n",
       "      <th>std</th>\n",
       "      <td>46.273228</td>\n",
       "      <td>32.350477</td>\n",
       "      <td>30.458330</td>\n",
       "      <td>30.635361</td>\n",
       "      <td>43.752567</td>\n",
       "      <td>41.415114</td>\n",
       "      <td>38.016837</td>\n",
       "      <td>62.417629</td>\n",
       "      <td>64.634310</td>\n",
       "      <td>61.481774</td>\n",
       "      <td>38.755893</td>\n",
       "      <td>40.172427</td>\n",
       "      <td>39.733110</td>\n",
       "      <td>30.780705</td>\n",
       "      <td>30.545894</td>\n",
       "      <td>30.630193</td>\n",
       "      <td>14.404037</td>\n",
       "      <td>1.146928</td>\n",
       "    </tr>\n",
       "    <tr>\n",
       "      <th>min</th>\n",
       "      <td>221.000000</td>\n",
       "      <td>-193.000000</td>\n",
       "      <td>-120.000000</td>\n",
       "      <td>-96.000000</td>\n",
       "      <td>-703.000000</td>\n",
       "      <td>-914.000000</td>\n",
       "      <td>-186.000000</td>\n",
       "      <td>-591.000000</td>\n",
       "      <td>-759.000000</td>\n",
       "      <td>-441.000000</td>\n",
       "      <td>-441.000000</td>\n",
       "      <td>-446.000000</td>\n",
       "      <td>-594.000000</td>\n",
       "      <td>-82.000000</td>\n",
       "      <td>-106.000000</td>\n",
       "      <td>-128.000000</td>\n",
       "      <td>145.000000</td>\n",
       "      <td>3.120000</td>\n",
       "    </tr>\n",
       "    <tr>\n",
       "      <th>25%</th>\n",
       "      <td>372.000000</td>\n",
       "      <td>228.000000</td>\n",
       "      <td>228.000000</td>\n",
       "      <td>229.000000</td>\n",
       "      <td>328.000000</td>\n",
       "      <td>328.000000</td>\n",
       "      <td>328.000000</td>\n",
       "      <td>464.000000</td>\n",
       "      <td>463.000000</td>\n",
       "      <td>464.000000</td>\n",
       "      <td>327.000000</td>\n",
       "      <td>327.000000</td>\n",
       "      <td>327.000000</td>\n",
       "      <td>229.000000</td>\n",
       "      <td>229.000000</td>\n",
       "      <td>228.000000</td>\n",
       "      <td>162.460000</td>\n",
       "      <td>6.730000</td>\n",
       "    </tr>\n",
       "    <tr>\n",
       "      <th>50%</th>\n",
       "      <td>408.000000</td>\n",
       "      <td>250.000000</td>\n",
       "      <td>250.000000</td>\n",
       "      <td>250.000000</td>\n",
       "      <td>350.000000</td>\n",
       "      <td>350.000000</td>\n",
       "      <td>350.000000</td>\n",
       "      <td>502.000000</td>\n",
       "      <td>502.000000</td>\n",
       "      <td>502.000000</td>\n",
       "      <td>349.000000</td>\n",
       "      <td>349.000000</td>\n",
       "      <td>350.000000</td>\n",
       "      <td>250.000000</td>\n",
       "      <td>250.000000</td>\n",
       "      <td>250.000000</td>\n",
       "      <td>174.400000</td>\n",
       "      <td>7.510000</td>\n",
       "    </tr>\n",
       "    <tr>\n",
       "      <th>75%</th>\n",
       "      <td>439.000000</td>\n",
       "      <td>272.000000</td>\n",
       "      <td>271.000000</td>\n",
       "      <td>272.000000</td>\n",
       "      <td>372.000000</td>\n",
       "      <td>372.000000</td>\n",
       "      <td>372.000000</td>\n",
       "      <td>538.000000</td>\n",
       "      <td>537.000000</td>\n",
       "      <td>539.000000</td>\n",
       "      <td>371.000000</td>\n",
       "      <td>371.000000</td>\n",
       "      <td>371.000000</td>\n",
       "      <td>271.000000</td>\n",
       "      <td>271.000000</td>\n",
       "      <td>271.000000</td>\n",
       "      <td>186.980000</td>\n",
       "      <td>8.280000</td>\n",
       "    </tr>\n",
       "    <tr>\n",
       "      <th>max</th>\n",
       "      <td>505.000000</td>\n",
       "      <td>722.000000</td>\n",
       "      <td>564.000000</td>\n",
       "      <td>643.000000</td>\n",
       "      <td>1299.000000</td>\n",
       "      <td>1178.000000</td>\n",
       "      <td>886.000000</td>\n",
       "      <td>1491.000000</td>\n",
       "      <td>2492.000000</td>\n",
       "      <td>1294.000000</td>\n",
       "      <td>1136.000000</td>\n",
       "      <td>1204.000000</td>\n",
       "      <td>944.000000</td>\n",
       "      <td>879.000000</td>\n",
       "      <td>737.000000</td>\n",
       "      <td>619.000000</td>\n",
       "      <td>206.680000</td>\n",
       "      <td>11.620000</td>\n",
       "    </tr>\n",
       "  </tbody>\n",
       "</table>\n",
       "</div>"
      ],
      "text/plain": [
       "            Quality    T_data_1_1    T_data_1_2    T_data_1_3    T_data_2_1  \\\n",
       "count  29184.000000  29184.000000  29184.000000  29184.000000  29184.000000   \n",
       "mean     402.800747    250.034677    249.816989    250.152823    349.802529   \n",
       "std       46.273228     32.350477     30.458330     30.635361     43.752567   \n",
       "min      221.000000   -193.000000   -120.000000    -96.000000   -703.000000   \n",
       "25%      372.000000    228.000000    228.000000    229.000000    328.000000   \n",
       "50%      408.000000    250.000000    250.000000    250.000000    350.000000   \n",
       "75%      439.000000    272.000000    271.000000    272.000000    372.000000   \n",
       "max      505.000000    722.000000    564.000000    643.000000   1299.000000   \n",
       "\n",
       "         T_data_2_2    T_data_2_3    T_data_3_1    T_data_3_2    T_data_3_3  \\\n",
       "count  29184.000000  29184.000000  29184.000000  29184.000000  29184.000000   \n",
       "mean     349.717071    349.950898    501.164439    500.919511    501.321580   \n",
       "std       41.415114     38.016837     62.417629     64.634310     61.481774   \n",
       "min     -914.000000   -186.000000   -591.000000   -759.000000   -441.000000   \n",
       "25%      328.000000    328.000000    464.000000    463.000000    464.000000   \n",
       "50%      350.000000    350.000000    502.000000    502.000000    502.000000   \n",
       "75%      372.000000    372.000000    538.000000    537.000000    539.000000   \n",
       "max     1178.000000    886.000000   1491.000000   2492.000000   1294.000000   \n",
       "\n",
       "         T_data_4_1    T_data_4_2    T_data_4_3    T_data_5_1    T_data_5_2  \\\n",
       "count  29184.000000  29184.000000  29184.000000  29184.000000  29184.000000   \n",
       "mean     348.955626    348.952200    349.673691    249.799925    249.670676   \n",
       "std       38.755893     40.172427     39.733110     30.780705     30.545894   \n",
       "min     -441.000000   -446.000000   -594.000000    -82.000000   -106.000000   \n",
       "25%      327.000000    327.000000    327.000000    229.000000    229.000000   \n",
       "50%      349.000000    349.000000    350.000000    250.000000    250.000000   \n",
       "75%      371.000000    371.000000    371.000000    271.000000    271.000000   \n",
       "max     1136.000000   1204.000000    944.000000    879.000000    737.000000   \n",
       "\n",
       "         T_data_5_3        H_data       AH_data  \n",
       "count  29184.000000  29184.000000  29184.000000  \n",
       "mean     249.848684    174.749959      7.500540  \n",
       "std       30.630193     14.404037      1.146928  \n",
       "min     -128.000000    145.000000      3.120000  \n",
       "25%      228.000000    162.460000      6.730000  \n",
       "50%      250.000000    174.400000      7.510000  \n",
       "75%      271.000000    186.980000      8.280000  \n",
       "max      619.000000    206.680000     11.620000  "
      ]
     },
     "execution_count": 195,
     "metadata": {},
     "output_type": "execute_result"
    }
   ],
   "source": [
    "df_train.describe()"
   ]
  },
  {
   "cell_type": "markdown",
   "metadata": {},
   "source": [
    "Посмотрим, сколько строк с отрицательными значениями температур:"
   ]
  },
  {
   "cell_type": "code",
   "execution_count": 196,
   "metadata": {},
   "outputs": [
    {
     "data": {
      "text/plain": [
       "Index(['DT_y', 'Quality', 'DT_x', 'T_data_1_1', 'T_data_1_2', 'T_data_1_3',\n",
       "       'T_data_2_1', 'T_data_2_2', 'T_data_2_3', 'T_data_3_1', 'T_data_3_2',\n",
       "       'T_data_3_3', 'T_data_4_1', 'T_data_4_2', 'T_data_4_3', 'T_data_5_1',\n",
       "       'T_data_5_2', 'T_data_5_3', 'H_data', 'AH_data'],\n",
       "      dtype='object')"
      ]
     },
     "execution_count": 196,
     "metadata": {},
     "output_type": "execute_result"
    }
   ],
   "source": [
    "df_train.columns"
   ]
  },
  {
   "cell_type": "markdown",
   "metadata": {},
   "source": [
    "Строк, в которых есть неположительные значения температур всего 195 - относительно немного для 29 тыс. измерений:"
   ]
  },
  {
   "cell_type": "code",
   "execution_count": 197,
   "metadata": {},
   "outputs": [
    {
     "data": {
      "text/plain": [
       "(195, 20)"
      ]
     },
     "execution_count": 197,
     "metadata": {},
     "output_type": "execute_result"
    }
   ],
   "source": [
    "df_train[(df_train['T_data_1_1'] <= 0) | (df_train['T_data_1_2'] <= 0) | (df_train['T_data_1_3'] <= 0) | \n",
    "         (df_train['T_data_2_1'] <= 0) | (df_train['T_data_2_2'] <= 0) | (df_train['T_data_3_1'] <= 0) |\n",
    "         (df_train['T_data_3_1'] <= 0) | (df_train['T_data_3_2'] <= 0) | (df_train['T_data_3_3'] <= 0) |\n",
    "         (df_train['T_data_4_1'] <= 0) | (df_train['T_data_4_2'] <= 0) | (df_train['T_data_4_3'] <= 0) |\n",
    "         (df_train['T_data_5_1'] <= 0) | (df_train['T_data_5_2'] <= 0) | (df_train['T_data_5_3'] <= 0)].shape"
   ]
  },
  {
   "cell_type": "markdown",
   "metadata": {},
   "source": [
    "Посмотрим, есть ли в наборах данных для прогноза отрицательные температуры. Оказывается, тоже есть есть:"
   ]
  },
  {
   "cell_type": "code",
   "execution_count": 198,
   "metadata": {},
   "outputs": [
    {
     "data": {
      "text/html": [
       "<div>\n",
       "<style scoped>\n",
       "    .dataframe tbody tr th:only-of-type {\n",
       "        vertical-align: middle;\n",
       "    }\n",
       "\n",
       "    .dataframe tbody tr th {\n",
       "        vertical-align: top;\n",
       "    }\n",
       "\n",
       "    .dataframe thead th {\n",
       "        text-align: right;\n",
       "    }\n",
       "</style>\n",
       "<table border=\"1\" class=\"dataframe\">\n",
       "  <thead>\n",
       "    <tr style=\"text-align: right;\">\n",
       "      <th></th>\n",
       "      <th>Quality</th>\n",
       "      <th>T_data_1_1</th>\n",
       "      <th>T_data_1_2</th>\n",
       "      <th>T_data_1_3</th>\n",
       "      <th>T_data_2_1</th>\n",
       "      <th>T_data_2_2</th>\n",
       "      <th>T_data_2_3</th>\n",
       "      <th>T_data_3_1</th>\n",
       "      <th>T_data_3_2</th>\n",
       "      <th>T_data_3_3</th>\n",
       "      <th>T_data_4_1</th>\n",
       "      <th>T_data_4_2</th>\n",
       "      <th>T_data_4_3</th>\n",
       "      <th>T_data_5_1</th>\n",
       "      <th>T_data_5_2</th>\n",
       "      <th>T_data_5_3</th>\n",
       "      <th>H_data</th>\n",
       "      <th>AH_data</th>\n",
       "    </tr>\n",
       "  </thead>\n",
       "  <tbody>\n",
       "    <tr>\n",
       "      <th>count</th>\n",
       "      <td>5808.0</td>\n",
       "      <td>5808.000000</td>\n",
       "      <td>5808.000000</td>\n",
       "      <td>5808.000000</td>\n",
       "      <td>5808.000000</td>\n",
       "      <td>5808.000000</td>\n",
       "      <td>5808.000000</td>\n",
       "      <td>5808.000000</td>\n",
       "      <td>5808.000000</td>\n",
       "      <td>5808.000000</td>\n",
       "      <td>5808.000000</td>\n",
       "      <td>5808.000000</td>\n",
       "      <td>5808.000000</td>\n",
       "      <td>5808.000000</td>\n",
       "      <td>5808.000000</td>\n",
       "      <td>5808.000000</td>\n",
       "      <td>5808.000000</td>\n",
       "      <td>5808.000000</td>\n",
       "    </tr>\n",
       "    <tr>\n",
       "      <th>mean</th>\n",
       "      <td>420.0</td>\n",
       "      <td>250.775826</td>\n",
       "      <td>251.290289</td>\n",
       "      <td>250.641529</td>\n",
       "      <td>349.825585</td>\n",
       "      <td>349.683712</td>\n",
       "      <td>349.184917</td>\n",
       "      <td>500.952135</td>\n",
       "      <td>501.948864</td>\n",
       "      <td>500.840565</td>\n",
       "      <td>351.153065</td>\n",
       "      <td>351.877410</td>\n",
       "      <td>351.972452</td>\n",
       "      <td>249.379649</td>\n",
       "      <td>249.388602</td>\n",
       "      <td>248.962466</td>\n",
       "      <td>174.811904</td>\n",
       "      <td>7.491811</td>\n",
       "    </tr>\n",
       "    <tr>\n",
       "      <th>std</th>\n",
       "      <td>0.0</td>\n",
       "      <td>31.037089</td>\n",
       "      <td>32.428147</td>\n",
       "      <td>30.962828</td>\n",
       "      <td>34.359124</td>\n",
       "      <td>36.603541</td>\n",
       "      <td>38.072745</td>\n",
       "      <td>67.874435</td>\n",
       "      <td>57.606621</td>\n",
       "      <td>66.309021</td>\n",
       "      <td>40.812265</td>\n",
       "      <td>33.351799</td>\n",
       "      <td>42.538706</td>\n",
       "      <td>30.626060</td>\n",
       "      <td>30.027850</td>\n",
       "      <td>31.249607</td>\n",
       "      <td>14.539171</td>\n",
       "      <td>1.152877</td>\n",
       "    </tr>\n",
       "    <tr>\n",
       "      <th>min</th>\n",
       "      <td>420.0</td>\n",
       "      <td>26.000000</td>\n",
       "      <td>-37.000000</td>\n",
       "      <td>-58.000000</td>\n",
       "      <td>6.000000</td>\n",
       "      <td>-162.000000</td>\n",
       "      <td>23.000000</td>\n",
       "      <td>-770.000000</td>\n",
       "      <td>-16.000000</td>\n",
       "      <td>-463.000000</td>\n",
       "      <td>-239.000000</td>\n",
       "      <td>33.000000</td>\n",
       "      <td>-417.000000</td>\n",
       "      <td>19.000000</td>\n",
       "      <td>53.000000</td>\n",
       "      <td>-155.000000</td>\n",
       "      <td>143.520000</td>\n",
       "      <td>2.890000</td>\n",
       "    </tr>\n",
       "    <tr>\n",
       "      <th>25%</th>\n",
       "      <td>420.0</td>\n",
       "      <td>229.000000</td>\n",
       "      <td>229.000000</td>\n",
       "      <td>229.000000</td>\n",
       "      <td>327.000000</td>\n",
       "      <td>327.000000</td>\n",
       "      <td>327.000000</td>\n",
       "      <td>463.000000</td>\n",
       "      <td>466.000000</td>\n",
       "      <td>465.000000</td>\n",
       "      <td>330.000000</td>\n",
       "      <td>331.000000</td>\n",
       "      <td>331.000000</td>\n",
       "      <td>229.000000</td>\n",
       "      <td>229.000000</td>\n",
       "      <td>229.000000</td>\n",
       "      <td>162.380000</td>\n",
       "      <td>6.700000</td>\n",
       "    </tr>\n",
       "    <tr>\n",
       "      <th>50%</th>\n",
       "      <td>420.0</td>\n",
       "      <td>251.000000</td>\n",
       "      <td>252.000000</td>\n",
       "      <td>252.000000</td>\n",
       "      <td>350.000000</td>\n",
       "      <td>349.000000</td>\n",
       "      <td>349.000000</td>\n",
       "      <td>500.000000</td>\n",
       "      <td>500.000000</td>\n",
       "      <td>501.000000</td>\n",
       "      <td>352.000000</td>\n",
       "      <td>352.000000</td>\n",
       "      <td>352.000000</td>\n",
       "      <td>249.000000</td>\n",
       "      <td>249.000000</td>\n",
       "      <td>249.000000</td>\n",
       "      <td>174.830000</td>\n",
       "      <td>7.500000</td>\n",
       "    </tr>\n",
       "    <tr>\n",
       "      <th>75%</th>\n",
       "      <td>420.0</td>\n",
       "      <td>272.000000</td>\n",
       "      <td>273.000000</td>\n",
       "      <td>272.000000</td>\n",
       "      <td>372.000000</td>\n",
       "      <td>373.000000</td>\n",
       "      <td>372.000000</td>\n",
       "      <td>540.000000</td>\n",
       "      <td>538.000000</td>\n",
       "      <td>539.000000</td>\n",
       "      <td>373.000000</td>\n",
       "      <td>373.000000</td>\n",
       "      <td>373.000000</td>\n",
       "      <td>270.000000</td>\n",
       "      <td>270.000000</td>\n",
       "      <td>270.000000</td>\n",
       "      <td>187.452500</td>\n",
       "      <td>8.250000</td>\n",
       "    </tr>\n",
       "    <tr>\n",
       "      <th>max</th>\n",
       "      <td>420.0</td>\n",
       "      <td>530.000000</td>\n",
       "      <td>762.000000</td>\n",
       "      <td>522.000000</td>\n",
       "      <td>708.000000</td>\n",
       "      <td>772.000000</td>\n",
       "      <td>856.000000</td>\n",
       "      <td>1277.000000</td>\n",
       "      <td>1264.000000</td>\n",
       "      <td>982.000000</td>\n",
       "      <td>966.000000</td>\n",
       "      <td>661.000000</td>\n",
       "      <td>809.000000</td>\n",
       "      <td>558.000000</td>\n",
       "      <td>549.000000</td>\n",
       "      <td>535.000000</td>\n",
       "      <td>203.560000</td>\n",
       "      <td>11.840000</td>\n",
       "    </tr>\n",
       "  </tbody>\n",
       "</table>\n",
       "</div>"
      ],
      "text/plain": [
       "       Quality   T_data_1_1   T_data_1_2   T_data_1_3   T_data_2_1  \\\n",
       "count   5808.0  5808.000000  5808.000000  5808.000000  5808.000000   \n",
       "mean     420.0   250.775826   251.290289   250.641529   349.825585   \n",
       "std        0.0    31.037089    32.428147    30.962828    34.359124   \n",
       "min      420.0    26.000000   -37.000000   -58.000000     6.000000   \n",
       "25%      420.0   229.000000   229.000000   229.000000   327.000000   \n",
       "50%      420.0   251.000000   252.000000   252.000000   350.000000   \n",
       "75%      420.0   272.000000   273.000000   272.000000   372.000000   \n",
       "max      420.0   530.000000   762.000000   522.000000   708.000000   \n",
       "\n",
       "        T_data_2_2   T_data_2_3   T_data_3_1   T_data_3_2   T_data_3_3  \\\n",
       "count  5808.000000  5808.000000  5808.000000  5808.000000  5808.000000   \n",
       "mean    349.683712   349.184917   500.952135   501.948864   500.840565   \n",
       "std      36.603541    38.072745    67.874435    57.606621    66.309021   \n",
       "min    -162.000000    23.000000  -770.000000   -16.000000  -463.000000   \n",
       "25%     327.000000   327.000000   463.000000   466.000000   465.000000   \n",
       "50%     349.000000   349.000000   500.000000   500.000000   501.000000   \n",
       "75%     373.000000   372.000000   540.000000   538.000000   539.000000   \n",
       "max     772.000000   856.000000  1277.000000  1264.000000   982.000000   \n",
       "\n",
       "        T_data_4_1   T_data_4_2   T_data_4_3   T_data_5_1   T_data_5_2  \\\n",
       "count  5808.000000  5808.000000  5808.000000  5808.000000  5808.000000   \n",
       "mean    351.153065   351.877410   351.972452   249.379649   249.388602   \n",
       "std      40.812265    33.351799    42.538706    30.626060    30.027850   \n",
       "min    -239.000000    33.000000  -417.000000    19.000000    53.000000   \n",
       "25%     330.000000   331.000000   331.000000   229.000000   229.000000   \n",
       "50%     352.000000   352.000000   352.000000   249.000000   249.000000   \n",
       "75%     373.000000   373.000000   373.000000   270.000000   270.000000   \n",
       "max     966.000000   661.000000   809.000000   558.000000   549.000000   \n",
       "\n",
       "        T_data_5_3       H_data      AH_data  \n",
       "count  5808.000000  5808.000000  5808.000000  \n",
       "mean    248.962466   174.811904     7.491811  \n",
       "std      31.249607    14.539171     1.152877  \n",
       "min    -155.000000   143.520000     2.890000  \n",
       "25%     229.000000   162.380000     6.700000  \n",
       "50%     249.000000   174.830000     7.500000  \n",
       "75%     270.000000   187.452500     8.250000  \n",
       "max     535.000000   203.560000    11.840000  "
      ]
     },
     "execution_count": 198,
     "metadata": {},
     "output_type": "execute_result"
    }
   ],
   "source": [
    "df_submit = pd.merge(y_submit, x_data, on = 'DT_x', how = 'left')\n",
    "df_submit.describe()"
   ]
  },
  {
   "cell_type": "markdown",
   "metadata": {},
   "source": [
    "Есть несколько вариантов, например: оставить данные как есть, заменить неположительные значения средним / медианой или просто выкинуть. Заменять тоже можно по-разному - как и средним (медианой) значением по столбцу, так и средним (медианой) по строке или средним по камере - подходов может быть множество, лучше, конечно поговорить с экспертом в области производства и понять какой подход будет в данном случае оптимальным. Для данной задачи выберу замену средним значением по столбцу:"
   ]
  },
  {
   "cell_type": "markdown",
   "metadata": {},
   "source": [
    "Скопирую датасет, чтобы изменять значения в нем, а не в исходном:"
   ]
  },
  {
   "cell_type": "code",
   "execution_count": 199,
   "metadata": {},
   "outputs": [],
   "source": [
    "df_train_w = df_train.copy()"
   ]
  },
  {
   "cell_type": "code",
   "execution_count": 278,
   "metadata": {},
   "outputs": [],
   "source": [
    "col_list = ['T_data_1_1', 'T_data_1_2', 'T_data_1_3', 'T_data_2_1', 'T_data_2_2', 'T_data_2_3', 'T_data_3_1', 'T_data_3_2',\n",
    "       'T_data_3_3', 'T_data_4_1', 'T_data_4_2', 'T_data_4_3', 'T_data_5_1', 'T_data_5_2', 'T_data_5_3']\n",
    "for column in col_list:\n",
    "    for i in range(len(df_train_w[column])):\n",
    "        if df_train_w[column][i] <= 0:\n",
    "             df_train_w[column][i] = df_train_w[column].mean()"
   ]
  },
  {
   "cell_type": "markdown",
   "metadata": {},
   "source": [
    "Аналогичную операцию проведу с тестовым датасетом:"
   ]
  },
  {
   "cell_type": "code",
   "execution_count": 201,
   "metadata": {},
   "outputs": [],
   "source": [
    "df_submit_w = df_submit.copy()"
   ]
  },
  {
   "cell_type": "code",
   "execution_count": 279,
   "metadata": {},
   "outputs": [],
   "source": [
    "for column in col_list:\n",
    "    for i in range(len(df_submit_w[column])):\n",
    "        if df_submit_w[column][i] <= 0:\n",
    "             df_submit_w[column][i] = df_train_w[column].mean()"
   ]
  },
  {
   "cell_type": "markdown",
   "metadata": {},
   "source": [
    "Еще один важный момент перед построением модели - посмотреть корреляцию параметров. У показателя качества заметная обратная корреляция с датчиками камеры 3. Также заметно, что каждая группа датчиков имеет ощутимую корреляю внутри своей группы. Сильной корреляции между показателями нет, поэтому удалять никакие признаки не буду."
   ]
  },
  {
   "cell_type": "code",
   "execution_count": 203,
   "metadata": {},
   "outputs": [
    {
     "data": {
      "text/plain": [
       "<matplotlib.axes._subplots.AxesSubplot at 0x18329406ef0>"
      ]
     },
     "execution_count": 203,
     "metadata": {},
     "output_type": "execute_result"
    },
    {
     "data": {
      "image/png": "[encoded data removed]",
      "text/plain": [
       "<Figure size 1440x1440 with 2 Axes>"
      ]
     },
     "metadata": {
      "needs_background": "light"
     },
     "output_type": "display_data"
    }
   ],
   "source": [
    "ax = plt.subplots(figsize=(20,20))\n",
    "sns.heatmap((df_train_w[['Quality', 'T_data_1_1', 'T_data_1_2', 'T_data_1_3','T_data_2_1', 'T_data_2_2', 'T_data_2_3', \n",
    "                       'T_data_3_1', 'T_data_3_2', 'T_data_3_3', 'T_data_4_1', 'T_data_4_2', 'T_data_4_3', 'T_data_5_1',\n",
    "                       'T_data_5_2', 'T_data_5_3', 'H_data', 'AH_data']]).corr(), annot = True)"
   ]
  },
  {
   "cell_type": "markdown",
   "metadata": {},
   "source": [
    "Разобьем датасет на тренировочную и тестовую выборки:"
   ]
  },
  {
   "cell_type": "code",
   "execution_count": 204,
   "metadata": {},
   "outputs": [],
   "source": [
    "from sklearn.model_selection import train_test_split"
   ]
  },
  {
   "cell_type": "code",
   "execution_count": 205,
   "metadata": {},
   "outputs": [],
   "source": [
    "y = df_train_w['Quality']"
   ]
  },
  {
   "cell_type": "code",
   "execution_count": 206,
   "metadata": {},
   "outputs": [],
   "source": [
    "x = df_train_w.drop(['DT_y', 'Quality', 'DT_x'], axis = 1)"
   ]
  },
  {
   "cell_type": "code",
   "execution_count": 207,
   "metadata": {},
   "outputs": [],
   "source": [
    "x_train, x_test, y_train, y_test = train_test_split(x, y, test_size = 0.3, random_state = 10)"
   ]
  },
  {
   "cell_type": "markdown",
   "metadata": {},
   "source": [
    "Диапазон измерений параметров отличается, поэтому нормализуем данные:"
   ]
  },
  {
   "cell_type": "code",
   "execution_count": 208,
   "metadata": {},
   "outputs": [],
   "source": [
    "from sklearn.preprocessing import scale\n",
    "from sklearn.preprocessing import StandardScaler\n",
    "scaler = StandardScaler()"
   ]
  },
  {
   "cell_type": "code",
   "execution_count": 209,
   "metadata": {},
   "outputs": [],
   "source": [
    "x_test_std = scaler.fit_transform(x_test)\n",
    "x_train_std = scaler.fit_transform(x_train)\n",
    "y_test_std = scale(y_test)\n",
    "y_train_std = scale(y_train)"
   ]
  },
  {
   "cell_type": "markdown",
   "metadata": {},
   "source": [
    "Для решения нашей задачи я испробую 3 алгоритма: Random forest regressor, SVR и LightGMB"
   ]
  },
  {
   "cell_type": "markdown",
   "metadata": {},
   "source": [
    "#### Random Forest Regressor:"
   ]
  },
  {
   "cell_type": "code",
   "execution_count": 210,
   "metadata": {},
   "outputs": [],
   "source": [
    "from sklearn.ensemble import RandomForestRegressor"
   ]
  },
  {
   "cell_type": "code",
   "execution_count": 281,
   "metadata": {},
   "outputs": [],
   "source": [
    "RFR = RandomForestRegressor(n_estimators = 500, max_depth = 20, max_features = 'auto', min_samples_leaf = 1, \n",
    "                            min_samples_split = 10, random_state = 10)"
   ]
  },
  {
   "cell_type": "code",
   "execution_count": 282,
   "metadata": {},
   "outputs": [
    {
     "data": {
      "text/plain": [
       "RandomForestRegressor(bootstrap=True, criterion='mse', max_depth=20,\n",
       "                      max_features='auto', max_leaf_nodes=None,\n",
       "                      min_impurity_decrease=0.0, min_impurity_split=None,\n",
       "                      min_samples_leaf=1, min_samples_split=10,\n",
       "                      min_weight_fraction_leaf=0.0, n_estimators=500,\n",
       "                      n_jobs=None, oob_score=False, random_state=10, verbose=0,\n",
       "                      warm_start=False)"
      ]
     },
     "execution_count": 282,
     "metadata": {},
     "output_type": "execute_result"
    }
   ],
   "source": [
    "RFR.fit(x_train_std, y_train_std)"
   ]
  },
  {
   "cell_type": "markdown",
   "metadata": {},
   "source": [
    "В нашем случае визуализации ненаглядны из-за большого числа измерений:"
   ]
  },
  {
   "cell_type": "code",
   "execution_count": 283,
   "metadata": {},
   "outputs": [
    {
     "data": {
      "text/plain": [
       "<matplotlib.legend.Legend at 0x182aa2676d8>"
      ]
     },
     "execution_count": 283,
     "metadata": {},
     "output_type": "execute_result"
    },
    {
     "data": {
      "image/png": "[encoded data removed]",
      "text/plain": [
       "<Figure size 432x288 with 1 Axes>"
      ]
     },
     "metadata": {
      "needs_background": "light"
     },
     "output_type": "display_data"
    }
   ],
   "source": [
    "plt.plot(y_test_std, label = 'fact')\n",
    "plt.plot(RFR.predict(x_test_std), label = 'predict')\n",
    "plt.legend()"
   ]
  },
  {
   "cell_type": "markdown",
   "metadata": {},
   "source": [
    "По заданию, оцениваем качество работы алгоритма с помощью MAE:"
   ]
  },
  {
   "cell_type": "code",
   "execution_count": 214,
   "metadata": {},
   "outputs": [],
   "source": [
    "from sklearn.metrics import mean_absolute_error"
   ]
  },
  {
   "cell_type": "code",
   "execution_count": 284,
   "metadata": {},
   "outputs": [
    {
     "data": {
      "text/plain": [
       "0.19549777083346384"
      ]
     },
     "execution_count": 284,
     "metadata": {},
     "output_type": "execute_result"
    }
   ],
   "source": [
    "mean_absolute_error(y_test_std, RFR.predict(x_test_std))"
   ]
  },
  {
   "cell_type": "markdown",
   "metadata": {},
   "source": [
    "Делать настройку параметров я буду с помощью GridSearchCV:\n",
    "#### Вот тут fit занял у меня за 20 часов так и не отработал. Для тестового задания я ограничусь моделями без тюнинга"
   ]
  },
  {
   "cell_type": "code",
   "execution_count": 216,
   "metadata": {},
   "outputs": [],
   "source": [
    "#from sklearn.model_selection import GridSearchCV"
   ]
  },
  {
   "cell_type": "code",
   "execution_count": 217,
   "metadata": {},
   "outputs": [],
   "source": [
    "#RFR_gr = RandomForestRegressor(random_state = 10)"
   ]
  },
  {
   "cell_type": "code",
   "execution_count": 218,
   "metadata": {},
   "outputs": [],
   "source": [
    "#parameters = {'n_estimators':[10, 20, 50, 100, 200, 500, 1000], 'max_depth':[None, 10, 20, 50, 100], 'max_features': \n",
    "#              ['auto', 'sqrt'], 'min_samples_leaf': [1, 2, 4], 'min_samples_split': [2, 5, 10]}"
   ]
  },
  {
   "cell_type": "code",
   "execution_count": 219,
   "metadata": {},
   "outputs": [],
   "source": [
    "#grid = GridSearchCV(RFR_gr, parameters, scoring='neg_mean_absolute_error')"
   ]
  },
  {
   "cell_type": "code",
   "execution_count": 220,
   "metadata": {},
   "outputs": [],
   "source": [
    "#grid.fit(x_train_std, y_train_std)       "
   ]
  },
  {
   "cell_type": "code",
   "execution_count": 221,
   "metadata": {},
   "outputs": [],
   "source": [
    "#print ('best n_estimators        = ', grid.best_estimator_.n_estimators)\n",
    "#print ('best max_depth           = ', grid.best_estimator_.max_depth)\n",
    "#print ('best max_features        = ', grid.best_estimator_.max_features)\n",
    "#print ('best min_saples_leaf     = ', grid.best_estimator_.min_samples_leaf)\n",
    "#print ('best min_samples_split   = ', grid.best_estimator_.min_samples_split)"
   ]
  },
  {
   "cell_type": "markdown",
   "metadata": {},
   "source": [
    "Подставим подобранные значения в модель:"
   ]
  },
  {
   "cell_type": "code",
   "execution_count": 222,
   "metadata": {},
   "outputs": [],
   "source": [
    "#RFR_gr = RandomForestRegressor(n_estimators = , max_depth = , max_features = '', \n",
    "#                               min_samples_leaf = , min_samples_split = )"
   ]
  },
  {
   "cell_type": "code",
   "execution_count": 223,
   "metadata": {},
   "outputs": [],
   "source": [
    "#RFR_gr.fit(x_train_std, y_train_std)"
   ]
  },
  {
   "cell_type": "markdown",
   "metadata": {},
   "source": [
    "Оценка качества:"
   ]
  },
  {
   "cell_type": "code",
   "execution_count": 224,
   "metadata": {},
   "outputs": [],
   "source": [
    "#mean_absolute_error(y_test_std, RFR_gr.predict(x_test_std))"
   ]
  },
  {
   "cell_type": "markdown",
   "metadata": {},
   "source": [
    "#### SVR:"
   ]
  },
  {
   "cell_type": "code",
   "execution_count": 225,
   "metadata": {},
   "outputs": [],
   "source": [
    "from sklearn.svm import SVR"
   ]
  },
  {
   "cell_type": "code",
   "execution_count": 288,
   "metadata": {},
   "outputs": [],
   "source": [
    "SVR_res = SVR()"
   ]
  },
  {
   "cell_type": "code",
   "execution_count": 289,
   "metadata": {},
   "outputs": [
    {
     "data": {
      "text/plain": [
       "SVR(C=1.0, cache_size=200, coef0=0.0, degree=3, epsilon=0.1,\n",
       "    gamma='auto_deprecated', kernel='rbf', max_iter=-1, shrinking=True,\n",
       "    tol=0.001, verbose=False)"
      ]
     },
     "execution_count": 289,
     "metadata": {},
     "output_type": "execute_result"
    }
   ],
   "source": [
    "SVR_res.fit(x_train_std, y_train_std)"
   ]
  },
  {
   "cell_type": "markdown",
   "metadata": {},
   "source": [
    "Оценка качества модели:"
   ]
  },
  {
   "cell_type": "code",
   "execution_count": 290,
   "metadata": {},
   "outputs": [
    {
     "data": {
      "text/plain": [
       "0.21868287011985107"
      ]
     },
     "execution_count": 290,
     "metadata": {},
     "output_type": "execute_result"
    }
   ],
   "source": [
    "mean_absolute_error(y_test_std, SVR_res.predict(x_test_std))"
   ]
  },
  {
   "cell_type": "markdown",
   "metadata": {},
   "source": [
    "#### LightGBM"
   ]
  },
  {
   "cell_type": "code",
   "execution_count": 236,
   "metadata": {},
   "outputs": [],
   "source": [
    "import lightgbm"
   ]
  },
  {
   "cell_type": "code",
   "execution_count": 237,
   "metadata": {},
   "outputs": [],
   "source": [
    "lgbm_train = lightgbm.Dataset(x_train_std, label = y_train_std)"
   ]
  },
  {
   "cell_type": "code",
   "execution_count": 238,
   "metadata": {},
   "outputs": [],
   "source": [
    "params = {}\n",
    "params['learning_rate'] = 0.1\n",
    "params['boosting_type'] = 'gbdt'\n",
    "params['sub_feature'] = 0.5\n",
    "params['min_data'] = 50\n",
    "params['max_depth'] = 10"
   ]
  },
  {
   "cell_type": "code",
   "execution_count": 239,
   "metadata": {},
   "outputs": [],
   "source": [
    "LGBM = lightgbm.train(params, lgbm_train)"
   ]
  },
  {
   "cell_type": "markdown",
   "metadata": {},
   "source": [
    "Оценка качества:"
   ]
  },
  {
   "cell_type": "code",
   "execution_count": 240,
   "metadata": {},
   "outputs": [
    {
     "data": {
      "text/plain": [
       "0.2057310840456611"
      ]
     },
     "execution_count": 240,
     "metadata": {},
     "output_type": "execute_result"
    }
   ],
   "source": [
    "mean_absolute_error(y_test_std, LGBM.predict(x_test_std))"
   ]
  },
  {
   "cell_type": "markdown",
   "metadata": {},
   "source": [
    "Сравним полученные результаты."
   ]
  },
  {
   "cell_type": "code",
   "execution_count": 291,
   "metadata": {},
   "outputs": [],
   "source": [
    "res = {'Model':['Random Forest Regressor', 'SVR', 'Light GBM'], \n",
    "       'MAE':\n",
    "                  [mean_absolute_error(y_test_std, RFR.predict(x_test_std)),\n",
    "                  mean_absolute_error(y_test_std, SVR_res.predict(x_test_std)),\n",
    "                  mean_absolute_error(y_test_std, LGBM.predict(x_test_std))]}"
   ]
  },
  {
   "cell_type": "code",
   "execution_count": 292,
   "metadata": {},
   "outputs": [],
   "source": [
    "quality = pd.DataFrame(res)"
   ]
  },
  {
   "cell_type": "markdown",
   "metadata": {},
   "source": [
    "Показатель данной метрики должен стремиться к 0, поэтому лучше результаты показал RFR. Чтобы еще улучшить алгоритмы можно попробовать:\n",
    "\n",
    "1. Разобраться с отрицательными значениями датчиков, понять как лучше заполнять такие значения, попробовать несколько методов.\n",
    "2. Подобрать оптимальные параметры для алгоритмов\n",
    "\n",
    "В рамках текущего задания я остановлюсь на этих результатах."
   ]
  },
  {
   "cell_type": "code",
   "execution_count": 293,
   "metadata": {},
   "outputs": [
    {
     "data": {
      "text/html": [
       "<div>\n",
       "<style scoped>\n",
       "    .dataframe tbody tr th:only-of-type {\n",
       "        vertical-align: middle;\n",
       "    }\n",
       "\n",
       "    .dataframe tbody tr th {\n",
       "        vertical-align: top;\n",
       "    }\n",
       "\n",
       "    .dataframe thead th {\n",
       "        text-align: right;\n",
       "    }\n",
       "</style>\n",
       "<table border=\"1\" class=\"dataframe\">\n",
       "  <thead>\n",
       "    <tr style=\"text-align: right;\">\n",
       "      <th></th>\n",
       "      <th>Model</th>\n",
       "      <th>MAE</th>\n",
       "    </tr>\n",
       "  </thead>\n",
       "  <tbody>\n",
       "    <tr>\n",
       "      <th>0</th>\n",
       "      <td>Random Forest Regressor</td>\n",
       "      <td>0.195498</td>\n",
       "    </tr>\n",
       "    <tr>\n",
       "      <th>2</th>\n",
       "      <td>Light GBM</td>\n",
       "      <td>0.205731</td>\n",
       "    </tr>\n",
       "    <tr>\n",
       "      <th>1</th>\n",
       "      <td>SVR</td>\n",
       "      <td>0.218683</td>\n",
       "    </tr>\n",
       "  </tbody>\n",
       "</table>\n",
       "</div>"
      ],
      "text/plain": [
       "                     Model       MAE\n",
       "0  Random Forest Regressor  0.195498\n",
       "2                Light GBM  0.205731\n",
       "1                      SVR  0.218683"
      ]
     },
     "execution_count": 293,
     "metadata": {},
     "output_type": "execute_result"
    }
   ],
   "source": [
    "quality.sort_values('MAE')"
   ]
  },
  {
   "cell_type": "markdown",
   "metadata": {},
   "source": [
    "Применим к тестовому датасету:"
   ]
  },
  {
   "cell_type": "code",
   "execution_count": 261,
   "metadata": {},
   "outputs": [],
   "source": [
    "df_submit_w2 = df_submit_w.drop(['DT_y', 'Quality', 'DT_x'], axis = 1)  "
   ]
  },
  {
   "cell_type": "code",
   "execution_count": 262,
   "metadata": {},
   "outputs": [],
   "source": [
    "df_submit_std = scaler.fit_transform(df_submit_w2)"
   ]
  },
  {
   "cell_type": "code",
   "execution_count": 294,
   "metadata": {},
   "outputs": [],
   "source": [
    "result = RFR.predict(df_submit_std)"
   ]
  },
  {
   "cell_type": "markdown",
   "metadata": {},
   "source": [
    "Обратное преобразование:"
   ]
  },
  {
   "cell_type": "code",
   "execution_count": 295,
   "metadata": {},
   "outputs": [],
   "source": [
    "y_scaler = scaler.fit(y_train.values.reshape(-1, 1))\n",
    "result_inv = y_scaler.inverse_transform(result)"
   ]
  },
  {
   "cell_type": "code",
   "execution_count": 296,
   "metadata": {},
   "outputs": [],
   "source": [
    "inv = pd.DataFrame(result_inv)"
   ]
  },
  {
   "cell_type": "markdown",
   "metadata": {},
   "source": [
    "Результат:"
   ]
  },
  {
   "cell_type": "code",
   "execution_count": 297,
   "metadata": {},
   "outputs": [],
   "source": [
    "pd_res = df_submit_w.join(inv)"
   ]
  },
  {
   "cell_type": "code",
   "execution_count": 298,
   "metadata": {},
   "outputs": [],
   "source": [
    "pd_res = pd_res.rename(columns = {0 : 'Quality_pred'})[['DT_y', 'Quality_pred']]"
   ]
  },
  {
   "cell_type": "code",
   "execution_count": 299,
   "metadata": {},
   "outputs": [
    {
     "data": {
      "text/html": [
       "<div>\n",
       "<style scoped>\n",
       "    .dataframe tbody tr th:only-of-type {\n",
       "        vertical-align: middle;\n",
       "    }\n",
       "\n",
       "    .dataframe tbody tr th {\n",
       "        vertical-align: top;\n",
       "    }\n",
       "\n",
       "    .dataframe thead th {\n",
       "        text-align: right;\n",
       "    }\n",
       "</style>\n",
       "<table border=\"1\" class=\"dataframe\">\n",
       "  <thead>\n",
       "    <tr style=\"text-align: right;\">\n",
       "      <th></th>\n",
       "      <th>DT_y</th>\n",
       "      <th>Quality_pred</th>\n",
       "    </tr>\n",
       "  </thead>\n",
       "  <tbody>\n",
       "    <tr>\n",
       "      <th>0</th>\n",
       "      <td>2018-05-04 00:05:00</td>\n",
       "      <td>452.867679</td>\n",
       "    </tr>\n",
       "    <tr>\n",
       "      <th>1</th>\n",
       "      <td>2018-05-04 01:05:00</td>\n",
       "      <td>443.780539</td>\n",
       "    </tr>\n",
       "    <tr>\n",
       "      <th>2</th>\n",
       "      <td>2018-05-04 02:05:00</td>\n",
       "      <td>444.921942</td>\n",
       "    </tr>\n",
       "    <tr>\n",
       "      <th>3</th>\n",
       "      <td>2018-05-04 03:05:00</td>\n",
       "      <td>424.393275</td>\n",
       "    </tr>\n",
       "    <tr>\n",
       "      <th>4</th>\n",
       "      <td>2018-05-04 04:05:00</td>\n",
       "      <td>403.551570</td>\n",
       "    </tr>\n",
       "  </tbody>\n",
       "</table>\n",
       "</div>"
      ],
      "text/plain": [
       "                 DT_y  Quality_pred\n",
       "0 2018-05-04 00:05:00    452.867679\n",
       "1 2018-05-04 01:05:00    443.780539\n",
       "2 2018-05-04 02:05:00    444.921942\n",
       "3 2018-05-04 03:05:00    424.393275\n",
       "4 2018-05-04 04:05:00    403.551570"
      ]
     },
     "execution_count": 299,
     "metadata": {},
     "output_type": "execute_result"
    }
   ],
   "source": [
    "pd_res.head()"
   ]
  },
  {
   "cell_type": "code",
   "execution_count": 302,
   "metadata": {},
   "outputs": [],
   "source": [
    "pd_res.to_csv('submission.csv', index = False)"
   ]
  }
 ],
 "metadata": {
  "kernelspec": {
   "display_name": "Python 3",
   "language": "python",
   "name": "python3"
  },
  "language_info": {
   "codemirror_mode": {
    "name": "ipython",
    "version": 3
   },
   "file_extension": ".py",
   "mimetype": "text/x-python",
   "name": "python",
   "nbconvert_exporter": "python",
   "pygments_lexer": "ipython3",
   "version": "3.7.3"
  }
 },
 "nbformat": 4,
 "nbformat_minor": 2
}
