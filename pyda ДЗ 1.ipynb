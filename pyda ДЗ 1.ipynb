{
 "cells": [
  {
   "cell_type": "markdown",
   "metadata": {},
   "source": [
    "**Задание 1**. Даны 2 строки: *long_phrase* и *short_phrase*. \n",
    "Напишите код, который проверяет действительно ли длинная фраза *long_phrase* длиннее короткой *short_phrase*. И выводит *True* или *False* в зависимости от результата сравнения."
   ]
  },
  {
   "cell_type": "code",
   "execution_count": 3,
   "metadata": {},
   "outputs": [
    {
     "data": {
      "text/plain": [
       "True"
      ]
     },
     "execution_count": 3,
     "metadata": {},
     "output_type": "execute_result"
    }
   ],
   "source": [
    "long_phrase = 'Насколько проще было бы писать программы, если бы не заказчики'\n",
    "short_phrase = '640Кб должно хватить для любых задач. Билл Гейтс (по легенде)'\n",
    "len(long_phrase) > len(short_phrase)"
   ]
  },
  {
   "cell_type": "code",
   "execution_count": null,
   "metadata": {},
   "outputs": [],
   "source": []
  },
  {
   "cell_type": "markdown",
   "metadata": {},
   "source": [
    "**Задание 2**. Дано значение объема файла в байтах. Напишите перевод этого значения в мегабайты в формате: \"*Объем файла равен 213.68Mb*\""
   ]
  },
  {
   "cell_type": "code",
   "execution_count": 12,
   "metadata": {},
   "outputs": [
    {
     "name": "stdout",
     "output_type": "stream",
     "text": [
      "Объем файла равен:  1.0 Mb\n"
     ]
    }
   ],
   "source": [
    "byte = 1000000\n",
    "print('Объем файла равен: ',byte/10**6,'Mb')"
   ]
  },
  {
   "cell_type": "markdown",
   "metadata": {},
   "source": [
    "**Задание 3**. Разработать приложение для определения знака зодиака по дате рождения. Пример:\n",
    "\n",
    "Введите месяц: март\n",
    "\n",
    "Введите число: 6\n",
    "\n",
    "Вывод:\n",
    "Рыбы"
   ]
  },
  {
   "cell_type": "code",
   "execution_count": 6,
   "metadata": {},
   "outputs": [
    {
     "name": "stdout",
     "output_type": "stream",
     "text": [
      "Введите день: 5\n",
      "Введите месяц: март\n",
      "Рыбы\n"
     ]
    }
   ],
   "source": [
    "day = int(input('Введите день: '))\n",
    "month = input('Введите месяц: ')\n",
    "if (day in range (21, 32) and month == 'март') or (day in range (1, 21) and month == 'апрель'):\n",
    "    print('Овен')\n",
    "elif (day in range (21, 31) and month == 'апрель') or (day in range (1, 21) and month == 'май'):\n",
    "    print('Телец')\n",
    "elif (day in range (21, 32) and month == 'май') or (day in range (1, 21) and month == 'июнь'):\n",
    "    print('Близнецы')\n",
    "elif (day in range (21, 31) and month == 'июнь') or (day in range (1, 23) and month == 'июль'):\n",
    "    print('Рак')\n",
    "elif (day in range (23, 32) and month == 'июль') or (day in range (1, 23) and month == 'август'):\n",
    "    print('Лев')\n",
    "elif (day in range (23, 32) and month == 'август') or (day in range (1, 24) and month == 'сентябрь'):\n",
    "    print('Дева')\n",
    "elif (day in range (24, 31) and month == 'сентябрь') or (day in range (1, 24) and month == 'октябрь'):\n",
    "    print('Весы')\n",
    "elif (day in range (24, 32) and month == 'октябрь') or (day in range (1, 22) and month == 'ноябрь'):\n",
    "    print('Скорпион')\n",
    "elif (day in range (22, 31) and month == 'ноябрь') or (day in range (1, 22) and month == 'декабрь'):\n",
    "    print('Стрелец')\n",
    "elif (day in range (22, 32) and month == 'декабрь') or (day in range (1, 20) and month == 'январь'):\n",
    "    print('Козерог')\n",
    "elif (day in range (20, 32) and month == 'январь') or (day in range (1, 19) and month == 'февраль'):\n",
    "    print('Водолей')\n",
    "elif (day in range (20, 29) and month == 'февраль') or (day in range (1, 21) and month == 'март'):\n",
    "    print('Рыбы')\n",
    "else:\n",
    "    print('Неверная дата')"
   ]
  },
  {
   "cell_type": "markdown",
   "metadata": {},
   "source": [
    "**Задание 4**. Нужно разработать приложение для финансового планирования.\n",
    "Приложение учитывает сколько уходит на ипотеку, \"на жизнь\" и сколько нужно отложить на пенсию.\n",
    "Пользователь вводит:\n",
    "- заработанную плату в месяц.\n",
    "- сколько процентов от ЗП уходит на ипотеку.\n",
    "- сколько процентов от ЗП уходит \"на жизнь\".\n",
    "- сколько раз приходит премия в год.\n",
    "\n",
    "Остальная часть заработанной платы откладывается на пенсию.\n",
    "\n",
    "Также пользователю приходит премия в размере зарплаты, от которой половина уходит на отпуск, а вторая половина откладывается.\n",
    "\n",
    "Программа должна учитывать сколько премий было в год.\n",
    "\n",
    "Нужно вывести сколько денег тратит пользователь на ипотеку и сколько он накопит за год.\n",
    "\n",
    "Пример:\n",
    "\n",
    "Введите заработанную плату в месяц: 100000\n",
    "\n",
    "Введите сколько процентов уходит на ипотеку: 30\n",
    "\n",
    "Введите сколько процентов уходит на жизнь: 50\n",
    "\n",
    "Введите количество премий за год: 2\n",
    "\n",
    "Вывод:\n",
    "На ипотеку было потрачено: 360000 рублей\n",
    "Было накоплено: 340000 рублей"
   ]
  },
  {
   "cell_type": "code",
   "execution_count": 7,
   "metadata": {},
   "outputs": [
    {
     "name": "stdout",
     "output_type": "stream",
     "text": [
      "Введите заработную плату в месяц: 100000\n",
      "Введите сколько процентов от ЗП уходит на ипотеку: 20\n",
      "Введите сколько процентов от ЗП уходит \"на жизнь\": 30\n",
      "Введите сколько сколько раз приходит премия в год: 1\n",
      "На ипотеку было потрачено: 240000.0 рублей\n",
      "Было накоплено: 650000.0\n"
     ]
    }
   ],
   "source": [
    "salary = int(input('Введите заработную плату в месяц: '))\n",
    "mortage = int(input('Введите сколько процентов от ЗП уходит на ипотеку: '))\n",
    "life = int(input('Введите сколько процентов от ЗП уходит \"на жизнь\": '))\n",
    "bonus = int(input('Введите сколько сколько раз приходит премия в год: '))\n",
    "print('На ипотеку было потрачено:',salary * mortage * 0.01 * 12,'рублей')\n",
    "print('Было накоплено:',(salary - salary * mortage * 0.01 - salary * life * 0.01) * 12 + salary * bonus * 0.5)"
   ]
  }
 ],
 "metadata": {
  "kernelspec": {
   "display_name": "Python 3",
   "language": "python",
   "name": "python3"
  },
  "language_info": {
   "codemirror_mode": {
    "name": "ipython",
    "version": 3
   },
   "file_extension": ".py",
   "mimetype": "text/x-python",
   "name": "python",
   "nbconvert_exporter": "python",
   "pygments_lexer": "ipython3",
   "version": "3.7.3"
  }
 },
 "nbformat": 4,
 "nbformat_minor": 2
}
