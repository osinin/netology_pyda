{
 "cells": [
  {
   "cell_type": "markdown",
   "metadata": {},
   "source": [
    "## Задание 1"
   ]
  },
  {
   "cell_type": "markdown",
   "metadata": {},
   "source": [
    "Дан список вида:"
   ]
  },
  {
   "cell_type": "code",
   "execution_count": 3,
   "metadata": {},
   "outputs": [],
   "source": [
    "data = [\n",
    "    [13, 25, 23, 34],\n",
    "    [45, 32, 44, 47],\n",
    "    [12, 33, 23, 95],\n",
    "    [13, 53, 34, 35]\n",
    "]"
   ]
  },
  {
   "cell_type": "code",
   "execution_count": 7,
   "metadata": {},
   "outputs": [
    {
     "data": {
      "text/plain": [
       "103"
      ]
     },
     "execution_count": 7,
     "metadata": {},
     "output_type": "execute_result"
    }
   ],
   "source": [
    "def diagonal_sum():\n",
    "    matrix_size = len(data)\n",
    "    total_sum = 0\n",
    "    for row in range(matrix_size):\n",
    "        total_sum += data[row][row]\n",
    "    return total_sum\n",
    "diagonal_sum()"
   ]
  },
  {
   "cell_type": "markdown",
   "metadata": {},
   "source": [
    "Напишите функцию, которая возвращает сумму элементов на диагонали. Т. е. 13+32+23+35."
   ]
  },
  {
   "cell_type": "markdown",
   "metadata": {},
   "source": [
    "## Задание 2"
   ]
  },
  {
   "cell_type": "markdown",
   "metadata": {},
   "source": [
    "Дан список чисел, часть из которых имеют строковый тип или содержат буквы. Напишите функцию, которая возвращает сумму квадратов элементов, которые могут быть числами."
   ]
  },
  {
   "cell_type": "code",
   "execution_count": 9,
   "metadata": {},
   "outputs": [],
   "source": [
    "data = [1, '5', 'abc', 20, '2']"
   ]
  },
  {
   "cell_type": "code",
   "execution_count": 94,
   "metadata": {},
   "outputs": [
    {
     "data": {
      "text/plain": [
       "104857600000000000000003130"
      ]
     },
     "execution_count": 94,
     "metadata": {},
     "output_type": "execute_result"
    }
   ],
   "source": [
    "def sum_squares():\n",
    "    list_size = len(data)\n",
    "    sum_squares = 0\n",
    "    for el in range(list_size):\n",
    "        if type(data[el]) == int or type(data[el]) == float:\n",
    "              sum_squares += data[el] ** data[el]\n",
    "        elif data[el].isnumeric():\n",
    "            numeric = 0\n",
    "            numeric = int(data[el])\n",
    "            sum_squares += numeric ** numeric\n",
    "    return sum_squares\n",
    "sum_squares()    "
   ]
  },
  {
   "cell_type": "markdown",
   "metadata": {},
   "source": [
    "## Задание 3"
   ]
  },
  {
   "cell_type": "markdown",
   "metadata": {},
   "source": [
    "Напишите функцию, возвращающую сумму первых n чисел Фибоначчи."
   ]
  },
  {
   "cell_type": "code",
   "execution_count": 196,
   "metadata": {},
   "outputs": [
    {
     "name": "stdout",
     "output_type": "stream",
     "text": [
      "Введите n: 5\n",
      "Сумма первых 5 чисел равна: 12\n"
     ]
    }
   ],
   "source": [
    "n = int(input('Введите n: '))\n",
    "def fibonacci(n):\n",
    "    fib1, fib2 = 1, 1\n",
    "    for i in range(n):\n",
    "        yield fib1\n",
    "        fib1, fib2 = fib2, fib1 + fib2\n",
    "data = list(fibonacci(n))\n",
    "print(f\"Сумма первых {n} чисел равна: {sum(data)}\")"
   ]
  },
  {
   "cell_type": "markdown",
   "metadata": {},
   "source": [
    "## Задание 4"
   ]
  },
  {
   "cell_type": "markdown",
   "metadata": {},
   "source": [
    "Дан набор данных об обучении студентов на курсе программирования, который содержит: \n",
    "1) имя\n",
    "2) фамилию \n",
    "3) пол \n",
    "4) наличие у студента опыта в программировании \n",
    "5) набор оценок за домашние работы \n",
    "6) оценку за итоговую работу.\n",
    "\n",
    "Напишите программу, которая будет принимать команду от пользователя и возвращать соотвествующий результат.\n",
    "Список команд: \n",
    "1 - вывести на экран среднюю оценку за все ДЗ по группе и вывести на экран среднюю оценку за экзамен по группе;\n",
    "2 - вывести среднюю оценку за ДЗ и за экзамен по группе в разрезе пола студентов\n",
    "3 - вывести среднюю оценку за ДЗ и за экзамен в разрезе наличия опыта в программировании у студентов.\n",
    "\n",
    "Прогрмма должна быть полностью декомпозирована на функции (кроме объявления функций и вызова итоговой функции в реализации ничего быть не должно)."
   ]
  },
  {
   "cell_type": "code",
   "execution_count": 144,
   "metadata": {},
   "outputs": [],
   "source": [
    "students_list = [\n",
    "    {'name': 'Василий', 'surname': 'Теркин', 'sex': 'м', 'program_exp': True, 'grade': [8, 8, 9, 10, 9], 'exam': 9},\n",
    "    {'name': 'Мария', 'surname': 'Павлова', 'sex': 'ж', 'program_exp': True, 'grade': [7, 8, 9, 7, 9], 'exam': 8},\n",
    "    {'name': 'Ирина', 'surname': 'Андреева', 'sex': 'ж', 'program_exp': True, 'grade': [10, 9, 8, 10, 10], 'exam': 10},\n",
    "    {'name': 'Татьяна', 'surname': 'Сидорова', 'sex': 'ж', 'program_exp': True, 'grade': [7, 8, 8, 9, 8], 'exam': 8},\n",
    "    {'name': 'Иван', 'surname': 'Васильев', 'sex': 'ж', 'program_exp': True, 'grade': [9, 8, 9, 6, 9], 'exam': 10},\n",
    "    {'name': 'Роман', 'surname': 'Золотарев', 'sex': 'ж', 'program_exp': False, 'grade': [8, 9, 9, 6, 9], 'exam': 10}\n",
    "]"
   ]
  },
  {
   "cell_type": "code",
   "execution_count": 173,
   "metadata": {},
   "outputs": [
    {
     "name": "stdout",
     "output_type": "stream",
     "text": [
      "Средняя оценка за ДЗ в группе: 8.4\n",
      "Средняя оценка за экзамен в группе: 9.2\n"
     ]
    }
   ],
   "source": [
    "def overall():\n",
    "    grade_sum = 0\n",
    "    grade_number = 0\n",
    "    exam_sum = 0\n",
    "    for row in range(len(students_list)):\n",
    "        grade_sum += sum(list(students_list[row].values())[4])\n",
    "        grade_number += len(list(students_list[row].values())[4])\n",
    "        exam_sum += list(students_list[row].values())[5]\n",
    "    grade_av = grade_sum / grade_number\n",
    "    exam_av = exam_sum / len(students_list)\n",
    "    print(f\"Средняя оценка за ДЗ в группе: {round(grade_av, 1)}\")\n",
    "    print(f\"Средняя оценка за экзамен в группе: {round(exam_av, 1)}\")\n",
    "overall()"
   ]
  },
  {
   "cell_type": "code",
   "execution_count": 193,
   "metadata": {},
   "outputs": [
    {
     "name": "stdout",
     "output_type": "stream",
     "text": [
      "Средняя оценка за ДЗ у мужчин: 8.8\n",
      "Средняя оценка за ДЗ у женщин: 8.4\n",
      "Средняя оценка за экзамен у мужчин: 9.0\n",
      "Средняя оценка за экзамен у женщин: 9.2\n"
     ]
    }
   ],
   "source": [
    "def sex():\n",
    "    grade_sum_m = 0\n",
    "    grade_number_m = 0\n",
    "    exam_sum_m = 0\n",
    "    exam_number_m = 0\n",
    "    grade_sum_f = 0\n",
    "    grade_number_f = 0\n",
    "    exam_sum_f = 0\n",
    "    exam_number_f = 0\n",
    "    for row in range(len(students_list)):\n",
    "        if list(students_list[row].values())[2] == 'м': \n",
    "            grade_sum_m += sum(list(students_list[row].values())[4])\n",
    "            grade_number_m += len(list(students_list[row].values())[4])\n",
    "            exam_sum_m += list(students_list[row].values())[5]\n",
    "            exam_number_m += 1\n",
    "        else:\n",
    "            grade_sum_f += sum(list(students_list[row].values())[4])\n",
    "            grade_number_f += len(list(students_list[row].values())[4])\n",
    "            exam_sum_f += list(students_list[row].values())[5]\n",
    "            exam_number_f += 1\n",
    "    grade_av_m = grade_sum_m / grade_number_m\n",
    "    exam_av_m = exam_sum_m / exam_number_m\n",
    "    grade_av_f = grade_sum_f / grade_number_f\n",
    "    exam_av_f = exam_sum_f / exam_number_f        \n",
    "    print(f\"Средняя оценка за ДЗ у мужчин: {round(grade_av_m, 1)}\")\n",
    "    print(f\"Средняя оценка за ДЗ у женщин: {round(grade_av_f, 1)}\")\n",
    "    print(f\"Средняя оценка за экзамен у мужчин: {round(exam_av_m, 1)}\")\n",
    "    print(f\"Средняя оценка за экзамен у женщин: {round(exam_av_f, 1)}\")\n",
    "sex()"
   ]
  },
  {
   "cell_type": "code",
   "execution_count": 194,
   "metadata": {},
   "outputs": [
    {
     "name": "stdout",
     "output_type": "stream",
     "text": [
      "Средняя оценка за ДЗ у студентов с опытом: 8.5\n",
      "Средняя оценка за ДЗ у студентов без опыта: 8.2\n",
      "Средняя оценка за экзамен у студентов с опытом: 9.0\n",
      "Средняя оценка за экзамен у студентов без опыта: 10.0\n"
     ]
    }
   ],
   "source": [
    "def experience():\n",
    "    grade_sum_y = 0\n",
    "    grade_number_y = 0\n",
    "    exam_sum_y = 0\n",
    "    exam_number_y = 0\n",
    "    grade_sum_n = 0\n",
    "    grade_number_n = 0\n",
    "    exam_sum_n = 0\n",
    "    exam_number_n = 0\n",
    "    for row in range(len(students_list)):\n",
    "        if list(students_list[row].values())[3] == True: \n",
    "            grade_sum_y += sum(list(students_list[row].values())[4])\n",
    "            grade_number_y += len(list(students_list[row].values())[4])\n",
    "            exam_sum_y += list(students_list[row].values())[5]\n",
    "            exam_number_y += 1\n",
    "        else:\n",
    "            grade_sum_n += sum(list(students_list[row].values())[4])\n",
    "            grade_number_n += len(list(students_list[row].values())[4])\n",
    "            exam_sum_n += list(students_list[row].values())[5]\n",
    "            exam_number_n += 1\n",
    "    grade_av_y = grade_sum_y / grade_number_y\n",
    "    exam_av_y = exam_sum_y / exam_number_y\n",
    "    grade_av_n = grade_sum_n / grade_number_n\n",
    "    exam_av_n = exam_sum_n / exam_number_n        \n",
    "    print(f\"Средняя оценка за ДЗ у студентов с опытом: {round(grade_av_y, 1)}\")\n",
    "    print(f\"Средняя оценка за ДЗ у студентов без опыта: {round(grade_av_n, 1)}\")\n",
    "    print(f\"Средняя оценка за экзамен у студентов с опытом: {round(exam_av_y, 1)}\")\n",
    "    print(f\"Средняя оценка за экзамен у студентов без опыта: {round(exam_av_n, 1)}\")\n",
    "experience()"
   ]
  },
  {
   "cell_type": "code",
   "execution_count": 195,
   "metadata": {},
   "outputs": [
    {
     "name": "stdout",
     "output_type": "stream",
     "text": [
      "Средняя оценка за ДЗ в группе: 8.4\n",
      "Средняя оценка за экзамен в группе: 9.2\n",
      "Средняя оценка за ДЗ у мужчин: 8.8\n",
      "Средняя оценка за ДЗ у женщин: 8.4\n",
      "Средняя оценка за экзамен у мужчин: 9.0\n",
      "Средняя оценка за экзамен у женщин: 9.2\n",
      "Средняя оценка за ДЗ у студентов с опытом: 8.5\n",
      "Средняя оценка за ДЗ у студентов без опыта: 8.2\n",
      "Средняя оценка за экзамен у студентов с опытом: 9.0\n",
      "Средняя оценка за экзамен у студентов без опыта: 10.0\n"
     ]
    }
   ],
   "source": [
    "overall()\n",
    "sex()\n",
    "experience()"
   ]
  }
 ],
 "metadata": {
  "kernelspec": {
   "display_name": "Python 3",
   "language": "python",
   "name": "python3"
  },
  "language_info": {
   "codemirror_mode": {
    "name": "ipython",
    "version": 3
   },
   "file_extension": ".py",
   "mimetype": "text/x-python",
   "name": "python",
   "nbconvert_exporter": "python",
   "pygments_lexer": "ipython3",
   "version": "3.7.3"
  }
 },
 "nbformat": 4,
 "nbformat_minor": 2
}
