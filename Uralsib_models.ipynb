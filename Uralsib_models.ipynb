{
 "cells": [
  {
   "cell_type": "code",
   "execution_count": 20,
   "metadata": {},
   "outputs": [],
   "source": [
    "import pandas as pd\n",
    "import matplotlib.pyplot as plt\n",
    "import seaborn as sns"
   ]
  },
  {
   "cell_type": "code",
   "execution_count": 21,
   "metadata": {},
   "outputs": [],
   "source": [
    "data = pd.read_csv('C:\\\\Users\\\\Dmitry\\\\Documents\\\\Учеба\\\\0 Тестовые задания\\\\Уралсиб\\\\Data.txt', sep = ';', encoding = 'cp1251')"
   ]
  },
  {
   "cell_type": "code",
   "execution_count": 22,
   "metadata": {},
   "outputs": [],
   "source": [
    "data2 = data.copy()"
   ]
  },
  {
   "cell_type": "code",
   "execution_count": 23,
   "metadata": {},
   "outputs": [],
   "source": [
    "data2 = pd.get_dummies(data, columns = ['Тип товара', 'Регион выдачи кредита', 'Семейное положение'])"
   ]
  },
  {
   "cell_type": "code",
   "execution_count": 24,
   "metadata": {},
   "outputs": [],
   "source": [
    "def sex(a):\n",
    "    if a == 'Женский':\n",
    "        return 0\n",
    "    else:\n",
    "        return 1\n",
    "\n",
    "def education(b):\n",
    "    if b == 'Неоконченное среднее':\n",
    "        return 0\n",
    "    elif b == 'Среднее':\n",
    "        return 1\n",
    "    elif b == 'Среднее специальное':\n",
    "        return 2\n",
    "    elif b == 'Неоконченное высшее':\n",
    "        return 3\n",
    "    elif b == 'Высшее':\n",
    "        return 4\n",
    "    elif b == 'Несколько высших или более высокая ступень образования':\n",
    "        return 5\n",
    "    \n",
    "def kids(c):\n",
    "    if c == 'Детей нет':\n",
    "        return 0\n",
    "    else:\n",
    "        return 1\n",
    "\n",
    "def client(f):\n",
    "    if f == 'Не клиент банка':\n",
    "        return 0\n",
    "    else:\n",
    "        return 1\n",
    "\n",
    "def default(f):\n",
    "    if f == 'Нет дефолта':\n",
    "        return 0\n",
    "    else:\n",
    "        return 1"
   ]
  },
  {
   "cell_type": "code",
   "execution_count": 25,
   "metadata": {},
   "outputs": [],
   "source": [
    "data2['Пол'] = data2['Пол клиента'].apply(sex)\n",
    "data2['Образование'] = data2['Образование клиента'].apply(education)\n",
    "data2['Дети'] = data2['Наличие детей у клиента'].apply(kids)\n",
    "data2['Клиент банка'] = data2['Является ли клиентом банка'].apply(client)\n",
    "data2['Дефолт'] = data2['Флаг дефолта по кредиту'].apply(default)"
   ]
  },
  {
   "cell_type": "code",
   "execution_count": 26,
   "metadata": {},
   "outputs": [],
   "source": [
    "data2 = data2.drop(columns = ['Пол клиента', 'Образование клиента', 'Наличие детей у клиента', \n",
    "                              'Является ли клиентом банка', 'Флаг дефолта по кредиту', 'Оператор связи'])"
   ]
  },
  {
   "cell_type": "code",
   "execution_count": 29,
   "metadata": {},
   "outputs": [
    {
     "data": {
      "text/plain": [
       "Index(['Месяц выдачи кредита', 'Сумма кредита', 'Срок кредита',\n",
       "       'Возраст клиента', 'Доход клиента', 'Тип товара_Автомобильные товары',\n",
       "       'Тип товара_Аудио, Видео, Фото', 'Тип товара_Бытовая техника',\n",
       "       'Тип товара_Детские товары (игрушки, детская одежда, детская мебель)',\n",
       "       'Тип товара_Компьютеры, комплектующие',\n",
       "       'Тип товара_Косметика и косметические услуги', 'Тип товара_Мебель',\n",
       "       'Тип товара_Медицинские услуги', 'Тип товара_Мобильные телефоны',\n",
       "       'Тип товара_Мототехника (лодки, мото)', 'Тип товара_Музыка',\n",
       "       'Тип товара_Обучение', 'Тип товара_Одежда, изделия из меха и кожи',\n",
       "       'Тип товара_Окна, двери',\n",
       "       'Тип товара_Рыболовные и охотничьи принадлежности',\n",
       "       'Тип товара_Садовая техника', 'Тип товара_Спортивные товары',\n",
       "       'Тип товара_Строительные и ремонтные услуги',\n",
       "       'Тип товара_Строительные материалы и инструменты',\n",
       "       'Тип товара_Туризм и отдых', 'Тип товара_Фитнес',\n",
       "       'Тип товара_Ювелирные украшения',\n",
       "       'Регион выдачи кредита_Другие регионы',\n",
       "       'Регион выдачи кредита_Москва или МО',\n",
       "       'Регион выдачи кредита_Санкт-Петербург или ЛО',\n",
       "       'Семейное положение_Другое', 'Семейное положение_Женат/замужем',\n",
       "       'Семейное положение_Никогда не был(а) женат/замужем', 'Пол',\n",
       "       'Образование', 'Дети', 'Клиент банка', 'Дефолт'],\n",
       "      dtype='object')"
      ]
     },
     "execution_count": 29,
     "metadata": {},
     "output_type": "execute_result"
    }
   ],
   "source": [
    "data2.columns"
   ]
  },
  {
   "cell_type": "code",
   "execution_count": 30,
   "metadata": {},
   "outputs": [],
   "source": [
    "data2_y = pd.Series(data = data2['Дефолт'])"
   ]
  },
  {
   "cell_type": "code",
   "execution_count": 31,
   "metadata": {},
   "outputs": [],
   "source": [
    "data2_x = data2.drop(['Дефолт'], axis = 1)"
   ]
  },
  {
   "cell_type": "code",
   "execution_count": 32,
   "metadata": {},
   "outputs": [],
   "source": [
    "from sklearn.model_selection import train_test_split\n",
    "x_train, x_test, y_train, y_test = train_test_split(data2_x, data2_y, test_size = 0.3, random_state = 1)"
   ]
  },
  {
   "cell_type": "code",
   "execution_count": 33,
   "metadata": {},
   "outputs": [],
   "source": [
    "from sklearn.preprocessing import StandardScaler\n",
    "scaler = StandardScaler()"
   ]
  },
  {
   "cell_type": "code",
   "execution_count": 34,
   "metadata": {},
   "outputs": [],
   "source": [
    "x_test = scaler.fit_transform(x_test)\n",
    "x_train = scaler.fit_transform(x_train)"
   ]
  },
  {
   "cell_type": "code",
   "execution_count": 35,
   "metadata": {},
   "outputs": [],
   "source": [
    "from sklearn.ensemble import RandomForestClassifier"
   ]
  },
  {
   "cell_type": "code",
   "execution_count": 36,
   "metadata": {},
   "outputs": [],
   "source": [
    "RFC = RandomForestClassifier(random_state = 1)"
   ]
  },
  {
   "cell_type": "code",
   "execution_count": 37,
   "metadata": {},
   "outputs": [
    {
     "data": {
      "text/plain": [
       "RandomForestClassifier(random_state=1)"
      ]
     },
     "execution_count": 37,
     "metadata": {},
     "output_type": "execute_result"
    }
   ],
   "source": [
    "RFC.fit(x_train, y_train)"
   ]
  },
  {
   "cell_type": "code",
   "execution_count": 46,
   "metadata": {},
   "outputs": [
    {
     "name": "stdout",
     "output_type": "stream",
     "text": [
      "              precision    recall  f1-score   support\n",
      "\n",
      " Нет дефолта       0.90      0.99      0.94       465\n",
      "     Дефолта       0.33      0.04      0.07        52\n",
      "\n",
      "    accuracy                           0.90       517\n",
      "   macro avg       0.62      0.51      0.51       517\n",
      "weighted avg       0.84      0.90      0.86       517\n",
      "\n"
     ]
    }
   ],
   "source": [
    "from sklearn.metrics import classification_report\n",
    "report = classification_report(y_test, RFC.predict(x_test), target_names=['Нет дефолта', 'Дефолта'])\n",
    "print(report)"
   ]
  },
  {
   "cell_type": "code",
   "execution_count": 44,
   "metadata": {},
   "outputs": [
    {
     "data": {
      "text/plain": [
       "array([[461,   4],\n",
       "       [ 50,   2]], dtype=int64)"
      ]
     },
     "execution_count": 44,
     "metadata": {},
     "output_type": "execute_result"
    }
   ],
   "source": [
    "from sklearn.metrics import confusion_matrix\n",
    "confusion_matrix(y_test, RFC.predict(x_test))"
   ]
  },
  {
   "cell_type": "code",
   "execution_count": 54,
   "metadata": {},
   "outputs": [],
   "source": [
    "from sklearn.model_selection import GridSearchCV"
   ]
  },
  {
   "cell_type": "code",
   "execution_count": 55,
   "metadata": {},
   "outputs": [],
   "source": [
    "RFC_gr = RandomForestClassifier(random_state = 1)"
   ]
  },
  {
   "cell_type": "code",
   "execution_count": 56,
   "metadata": {},
   "outputs": [],
   "source": [
    "parameters = {'n_estimators':[10, 20, 50, 100, 200], 'max_depth':[None, 10, 20, 50, 100], 'max_features': \n",
    "              ['auto', 'sqrt'], 'min_samples_leaf': [1, 2, 4], 'min_samples_split': [2, 5, 10]}"
   ]
  },
  {
   "cell_type": "code",
   "execution_count": 57,
   "metadata": {},
   "outputs": [],
   "source": [
    "grid = GridSearchCV(RFC_gr, parameters)"
   ]
  },
  {
   "cell_type": "code",
   "execution_count": 58,
   "metadata": {},
   "outputs": [
    {
     "data": {
      "text/plain": [
       "GridSearchCV(estimator=RandomForestClassifier(random_state=1),\n",
       "             param_grid={'max_depth': [None, 10, 20, 50, 100],\n",
       "                         'max_features': ['auto', 'sqrt'],\n",
       "                         'min_samples_leaf': [1, 2, 4],\n",
       "                         'min_samples_split': [2, 5, 10],\n",
       "                         'n_estimators': [10, 20, 50, 100, 200]})"
      ]
     },
     "execution_count": 58,
     "metadata": {},
     "output_type": "execute_result"
    }
   ],
   "source": [
    "grid.fit(x_train, y_train)"
   ]
  },
  {
   "cell_type": "code",
   "execution_count": 60,
   "metadata": {},
   "outputs": [
    {
     "name": "stdout",
     "output_type": "stream",
     "text": [
      "best n_estimators        =  100\n",
      "best max_depth           =  None\n",
      "best max_features        =  auto\n",
      "best min_samples_leaf     =  1\n",
      "best min_samples_split   =  5\n"
     ]
    }
   ],
   "source": [
    "print ('best n_estimators        = ', grid.best_estimator_.n_estimators)\n",
    "print ('best max_depth           = ', grid.best_estimator_.max_depth)\n",
    "print ('best max_features        = ', grid.best_estimator_.max_features)\n",
    "print ('best min_samples_leaf     = ', grid.best_estimator_.min_samples_leaf)\n",
    "print ('best min_samples_split   = ', grid.best_estimator_.min_samples_split)"
   ]
  },
  {
   "cell_type": "code",
   "execution_count": 61,
   "metadata": {},
   "outputs": [],
   "source": [
    "RFC_gr = RandomForestClassifier(n_estimators = 100, max_depth = None, max_features = 'auto', min_samples_leaf = 1,\n",
    "                                min_samples_split = 5, random_state = 1)"
   ]
  },
  {
   "cell_type": "code",
   "execution_count": 62,
   "metadata": {},
   "outputs": [
    {
     "data": {
      "text/plain": [
       "RandomForestClassifier(min_samples_split=5, random_state=1)"
      ]
     },
     "execution_count": 62,
     "metadata": {},
     "output_type": "execute_result"
    }
   ],
   "source": [
    "RFC_gr.fit(x_train, y_train)"
   ]
  },
  {
   "cell_type": "code",
   "execution_count": 63,
   "metadata": {},
   "outputs": [
    {
     "name": "stdout",
     "output_type": "stream",
     "text": [
      "              precision    recall  f1-score   support\n",
      "\n",
      " Нет дефолта       0.90      0.99      0.94       465\n",
      "     Дефолта       0.33      0.04      0.07        52\n",
      "\n",
      "    accuracy                           0.90       517\n",
      "   macro avg       0.62      0.51      0.51       517\n",
      "weighted avg       0.84      0.90      0.86       517\n",
      "\n"
     ]
    }
   ],
   "source": [
    "report = classification_report(y_test, RFC_gr.predict(x_test), target_names=['Нет дефолта', 'Дефолта'])\n",
    "print(report)"
   ]
  },
  {
   "cell_type": "code",
   "execution_count": 64,
   "metadata": {},
   "outputs": [
    {
     "data": {
      "text/plain": [
       "array([[461,   4],\n",
       "       [ 50,   2]], dtype=int64)"
      ]
     },
     "execution_count": 64,
     "metadata": {},
     "output_type": "execute_result"
    }
   ],
   "source": [
    "confusion_matrix(y_test, RFC_gr.predict(x_test))"
   ]
  },
  {
   "cell_type": "code",
   "execution_count": null,
   "metadata": {},
   "outputs": [],
   "source": []
  },
  {
   "cell_type": "code",
   "execution_count": 47,
   "metadata": {},
   "outputs": [],
   "source": [
    "import lightgbm"
   ]
  },
  {
   "cell_type": "code",
   "execution_count": 50,
   "metadata": {},
   "outputs": [
    {
     "data": {
      "text/plain": [
       "LGBMClassifier()"
      ]
     },
     "execution_count": 50,
     "metadata": {},
     "output_type": "execute_result"
    }
   ],
   "source": [
    "LGBM = lightgbm.LGBMClassifier()\n",
    "LGBM.fit(x_train, y_train)"
   ]
  },
  {
   "cell_type": "code",
   "execution_count": 52,
   "metadata": {},
   "outputs": [
    {
     "name": "stdout",
     "output_type": "stream",
     "text": [
      "              precision    recall  f1-score   support\n",
      "\n",
      " Нет дефолта       0.91      0.95      0.93       465\n",
      "     Дефолта       0.25      0.13      0.18        52\n",
      "\n",
      "    accuracy                           0.87       517\n",
      "   macro avg       0.58      0.54      0.55       517\n",
      "weighted avg       0.84      0.87      0.85       517\n",
      "\n"
     ]
    }
   ],
   "source": [
    "report = classification_report(y_test, LGBM.predict(x_test), target_names=['Нет дефолта', 'Дефолта'])\n",
    "print(report)"
   ]
  },
  {
   "cell_type": "code",
   "execution_count": 53,
   "metadata": {},
   "outputs": [
    {
     "data": {
      "text/plain": [
       "array([[444,  21],\n",
       "       [ 45,   7]], dtype=int64)"
      ]
     },
     "execution_count": 53,
     "metadata": {},
     "output_type": "execute_result"
    }
   ],
   "source": [
    "confusion_matrix(y_test, LGBM.predict(x_test))"
   ]
  },
  {
   "cell_type": "code",
   "execution_count": null,
   "metadata": {},
   "outputs": [],
   "source": []
  },
  {
   "cell_type": "code",
   "execution_count": 65,
   "metadata": {},
   "outputs": [
    {
     "name": "stdout",
     "output_type": "stream",
     "text": [
      "Количество элементов до операции: 1723\n",
      "Количество элементов после операции: 3054\n"
     ]
    }
   ],
   "source": [
    "from imblearn.over_sampling import RandomOverSampler\n",
    "\n",
    "ros = RandomOverSampler(random_state = 1)\n",
    "ros.fit(data2_x, data2_y)\n",
    "X_resampled, Y_resampled = ros.fit_sample(data2_x, data2_y)\n",
    "print('Количество элементов до операции:', len(data2_x))\n",
    "print('Количество элементов после операции:', len(X_resampled))"
   ]
  },
  {
   "cell_type": "code",
   "execution_count": 66,
   "metadata": {},
   "outputs": [],
   "source": [
    "x_train2, x_test2, y_train2, y_test2 = train_test_split(X_resampled, Y_resampled, test_size = 0.3, random_state = 1)"
   ]
  },
  {
   "cell_type": "code",
   "execution_count": 108,
   "metadata": {},
   "outputs": [],
   "source": [
    "RFC_rs = RandomForestClassifier(n_estimators = 100, max_depth = None, max_features = 'auto', min_samples_leaf = 1,\n",
    "                                min_samples_split = 5, random_state = 1)"
   ]
  },
  {
   "cell_type": "code",
   "execution_count": 109,
   "metadata": {},
   "outputs": [
    {
     "data": {
      "text/plain": [
       "RandomForestClassifier(min_samples_split=5, random_state=1)"
      ]
     },
     "execution_count": 109,
     "metadata": {},
     "output_type": "execute_result"
    }
   ],
   "source": [
    "RFC_rs.fit(x_train2, y_train2)"
   ]
  },
  {
   "cell_type": "code",
   "execution_count": 110,
   "metadata": {},
   "outputs": [
    {
     "name": "stdout",
     "output_type": "stream",
     "text": [
      "              precision    recall  f1-score   support\n",
      "\n",
      " Нет дефолта       0.99      0.94      0.96       469\n",
      "     Дефолта       0.94      0.99      0.96       448\n",
      "\n",
      "    accuracy                           0.96       917\n",
      "   macro avg       0.96      0.96      0.96       917\n",
      "weighted avg       0.96      0.96      0.96       917\n",
      "\n"
     ]
    }
   ],
   "source": [
    "report = classification_report(y_test2, RFC_rs.predict(x_test2), target_names=['Нет дефолта', 'Дефолта'])\n",
    "print(report)"
   ]
  },
  {
   "cell_type": "code",
   "execution_count": 111,
   "metadata": {},
   "outputs": [
    {
     "data": {
      "text/plain": [
       "array([[440,  29],\n",
       "       [  5, 443]], dtype=int64)"
      ]
     },
     "execution_count": 111,
     "metadata": {},
     "output_type": "execute_result"
    }
   ],
   "source": [
    "confusion_matrix(y_test2, RFC_rs.predict(x_test2))"
   ]
  },
  {
   "cell_type": "code",
   "execution_count": 97,
   "metadata": {},
   "outputs": [],
   "source": [
    "from sklearn.tree import export_graphviz\n",
    "\n",
    "def get_tree_dot_view(RFC_rs, feature_names=None, class_names=None):\n",
    "    print(export_graphviz(RFC_rs, out_file=None, filled=True, feature_names=feature_names, class_names=class_names))"
   ]
  },
  {
   "cell_type": "code",
   "execution_count": 101,
   "metadata": {},
   "outputs": [],
   "source": [
    "#get_tree_dot_view(RFC_rs, list(x_test2.columns), data['Флаг дефолта по кредиту'].unique())"
   ]
  },
  {
   "cell_type": "code",
   "execution_count": null,
   "metadata": {},
   "outputs": [],
   "source": []
  },
  {
   "cell_type": "code",
   "execution_count": 102,
   "metadata": {},
   "outputs": [
    {
     "name": "stderr",
     "output_type": "stream",
     "text": [
      "No handles with labels found to put in legend.\n"
     ]
    },
    {
     "data": {
      "image/png": "[encoded data removed]",
      "text/plain": [
       "<Figure size 720x720 with 1 Axes>"
      ]
     },
     "metadata": {
      "needs_background": "light"
     },
     "output_type": "display_data"
    },
    {
     "data": {
      "text/plain": [
       "<Figure size 432x288 with 0 Axes>"
      ]
     },
     "metadata": {},
     "output_type": "display_data"
    }
   ],
   "source": [
    "headers = list(x_train2.columns.values)\n",
    "\n",
    "feature_imp = pd.Series(RFC_rs.feature_importances_,index=headers).sort_values(ascending=False)\n",
    "\n",
    "f, ax = plt.subplots(figsize=(10, 10))\n",
    "sns.barplot(x=feature_imp, y=feature_imp.index)\n",
    "\n",
    "plt.xlabel('Важность атрибутов')\n",
    "plt.ylabel('Атрибуты')\n",
    "plt.title(\"Наиболее важные атрибуты\")\n",
    "plt.legend()\n",
    "plt.show()\n",
    "plt.savefig('Атрибуты')"
   ]
  },
  {
   "cell_type": "code",
   "execution_count": null,
   "metadata": {},
   "outputs": [],
   "source": []
  },
  {
   "cell_type": "code",
   "execution_count": 105,
   "metadata": {},
   "outputs": [
    {
     "data": {
      "text/plain": [
       "LGBMClassifier()"
      ]
     },
     "execution_count": 105,
     "metadata": {},
     "output_type": "execute_result"
    }
   ],
   "source": [
    "LGBM_rs = lightgbm.LGBMClassifier()\n",
    "LGBM_rs.fit(x_train2.values, y_train2.values)"
   ]
  },
  {
   "cell_type": "code",
   "execution_count": 106,
   "metadata": {},
   "outputs": [
    {
     "name": "stdout",
     "output_type": "stream",
     "text": [
      "              precision    recall  f1-score   support\n",
      "\n",
      " Нет дефолта       0.99      0.88      0.93       469\n",
      "     Дефолта       0.88      0.99      0.93       448\n",
      "\n",
      "    accuracy                           0.93       917\n",
      "   macro avg       0.94      0.93      0.93       917\n",
      "weighted avg       0.94      0.93      0.93       917\n",
      "\n"
     ]
    }
   ],
   "source": [
    "report = classification_report(y_test2, LGBM_rs.predict(x_test2), target_names=['Нет дефолта', 'Дефолта'])\n",
    "print(report)"
   ]
  },
  {
   "cell_type": "code",
   "execution_count": 107,
   "metadata": {},
   "outputs": [
    {
     "data": {
      "text/plain": [
       "array([[411,  58],\n",
       "       [  4, 444]], dtype=int64)"
      ]
     },
     "execution_count": 107,
     "metadata": {},
     "output_type": "execute_result"
    }
   ],
   "source": [
    "confusion_matrix(y_test2, LGBM_rs.predict(x_test2))"
   ]
  },
  {
   "cell_type": "code",
   "execution_count": null,
   "metadata": {},
   "outputs": [],
   "source": []
  },
  {
   "cell_type": "code",
   "execution_count": null,
   "metadata": {},
   "outputs": [],
   "source": []
  }
 ],
 "metadata": {
  "kernelspec": {
   "display_name": "Python 3",
   "language": "python",
   "name": "python3"
  },
  "language_info": {
   "codemirror_mode": {
    "name": "ipython",
    "version": 3
   },
   "file_extension": ".py",
   "mimetype": "text/x-python",
   "name": "python",
   "nbconvert_exporter": "python",
   "pygments_lexer": "ipython3",
   "version": "3.7.3"
  }
 },
 "nbformat": 4,
 "nbformat_minor": 2
}
