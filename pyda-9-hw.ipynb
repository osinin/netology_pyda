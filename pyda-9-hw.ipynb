{
 "cells": [
  {
   "cell_type": "markdown",
   "metadata": {},
   "source": [
    "### Задача 1\n",
    "Напишите функцию date_range, которая возвращает список дней между датами start_date и end_date. Даты должны вводиться в формате YYYY-MM-DD."
   ]
  },
  {
   "cell_type": "code",
   "execution_count": 3,
   "metadata": {},
   "outputs": [],
   "source": [
    "from datetime import datetime\n",
    "from datetime import timedelta"
   ]
  },
  {
   "cell_type": "code",
   "execution_count": 4,
   "metadata": {},
   "outputs": [
    {
     "name": "stdout",
     "output_type": "stream",
     "text": [
      "Введите дату начала (ГГГГ-ММ-ДД):2019-03-05\n",
      "Введите дату конца (ГГГГ-ММ-ДД):2019-03-15\n"
     ]
    },
    {
     "data": {
      "text/plain": [
       "datetime.timedelta(days=10)"
      ]
     },
     "execution_count": 4,
     "metadata": {},
     "output_type": "execute_result"
    }
   ],
   "source": [
    "start_date = input('Введите дату начала (ГГГГ-ММ-ДД):')\n",
    "end_date = input('Введите дату конца (ГГГГ-ММ-ДД):')\n",
    "def datediff(start_date, end_date):\n",
    "    try:\n",
    "        start_date_td = datetime.strptime(start_date, '%Y-%m-%d')\n",
    "        end_date_dt = datetime.strptime(end_date, '%Y-%m-%d')\n",
    "        diff = end_date_dt - start_date_td\n",
    "        return diff\n",
    "    except:\n",
    "        print('Ошибка формата даты')\n",
    "datediff(start_date, end_date)"
   ]
  },
  {
   "cell_type": "markdown",
   "metadata": {},
   "source": [
    "### Задача 2\n",
    "Дополните функцию из первого задания проверкой на корректность дат. В случае неверного формата или если start_date > end_date должен возвращаться пустой список"
   ]
  },
  {
   "cell_type": "code",
   "execution_count": 7,
   "metadata": {},
   "outputs": [
    {
     "name": "stdout",
     "output_type": "stream",
     "text": [
      "Введите дату начала (ГГГГ-ММ-ДД):2019-03-15\n",
      "Введите дату конца (ГГГГ-ММ-ДД):2019-03-05\n",
      "Дата начала позже даты конца\n"
     ]
    }
   ],
   "source": [
    "start_date = input('Введите дату начала (ГГГГ-ММ-ДД):')\n",
    "end_date = input('Введите дату конца (ГГГГ-ММ-ДД):')\n",
    "def datediff(start_date, end_date):\n",
    "    try:\n",
    "        start_date_dt = datetime.strptime(start_date, '%Y-%m-%d')\n",
    "        end_date_dt = datetime.strptime(end_date, '%Y-%m-%d')\n",
    "        if end_date_dt > start_date_dt: \n",
    "            diff = end_date_dt - start_date_dt\n",
    "            return diff\n",
    "        else:\n",
    "            print('Дата начала позже даты конца')\n",
    "    except:\n",
    "        print('Ошибка формата даты')\n",
    "datediff(start_date, end_date)"
   ]
  },
  {
   "cell_type": "markdown",
   "metadata": {},
   "source": [
    "### Задание 3\n",
    "Дан поток дат в формате YYYY-MM-DD, в которых встречаются некорректные значения:\n",
    "stream = [‘2018-04-02’, ‘2018-02-29’, ‘2018-19-02’]\n",
    "Напишите функцию, которая проверяет эти даты на корректность. Т. е. для каждой даты возвращает True (дата корректна) или False (некорректная дата)."
   ]
  },
  {
   "cell_type": "code",
   "execution_count": 18,
   "metadata": {},
   "outputs": [
    {
     "name": "stdout",
     "output_type": "stream",
     "text": [
      "Date correct\n",
      "Date incorrect\n",
      "Date incorrect\n"
     ]
    }
   ],
   "source": [
    "stream = ['2018-04-02', '2018-02-29', '2018-19-02']\n",
    "def correctdate(stream):\n",
    "    for date in range(len(stream)):\n",
    "        try:\n",
    "            date_dt = datetime.strptime(stream[date], '%Y-%m-%d')\n",
    "            print('Date correct')\n",
    "        except:\n",
    "            print('Date incorrect')\n",
    "correctdate(stream)"
   ]
  },
  {
   "cell_type": "markdown",
   "metadata": {},
   "source": [
    "### Задание 4\n",
    "В последнем примере поиска по словарю мы использовали 3 столбца. Напишите функцию, которая формирует словарь для поиска по n столбцам."
   ]
  },
  {
   "cell_type": "code",
   "execution_count": 6,
   "metadata": {},
   "outputs": [
    {
     "name": "stdout",
     "output_type": "stream",
     "text": [
      "Введите по скольким столбцам выполнять поиск:2\n",
      "3\n"
     ]
    }
   ],
   "source": [
    "stats_dict = {}\n",
    "line_to_find = ('20', '20552')\n",
    "def finder(line_to_find):\n",
    "    try:\n",
    "        n = int(input('Введите по скольким столбцам выполнять поиск:'))\n",
    "        with open('C:\\\\Users\\\\Dmitry\\\\Documents\\\\Учеба\\\\3 Python и математика для анализа данных\\\\3.9 Оптимизация вычислений и большие данные\\\\stats.csv') as f:\n",
    "            for line in f:\n",
    "                line = line.strip().split(',')\n",
    "                stats_dict[tuple(line[:n])] = line[n]\n",
    "            cost = stats_dict[line_to_find]\n",
    "            print(cost)\n",
    "    except:\n",
    "        print('Ошибка ввода')\n",
    "finder(line_to_find)"
   ]
  }
 ],
 "metadata": {
  "kernelspec": {
   "display_name": "Python 3",
   "language": "python",
   "name": "python3"
  },
  "language_info": {
   "codemirror_mode": {
    "name": "ipython",
    "version": 3
   },
   "file_extension": ".py",
   "mimetype": "text/x-python",
   "name": "python",
   "nbconvert_exporter": "python",
   "pygments_lexer": "ipython3",
   "version": "3.7.3"
  }
 },
 "nbformat": 4,
 "nbformat_minor": 2
}
