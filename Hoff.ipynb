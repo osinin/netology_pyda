{
 "cells": [
  {
   "cell_type": "code",
   "execution_count": 26,
   "metadata": {},
   "outputs": [],
   "source": [
    "import pandas as pd\n",
    "import numpy as np\n",
    "import matplotlib.pyplot as plt\n",
    "import seaborn as sns"
   ]
  },
  {
   "cell_type": "code",
   "execution_count": 44,
   "metadata": {},
   "outputs": [],
   "source": [
    "data = pd.read_excel('C:\\\\Users\\\\Dmitry\\\\Documents\\\\Учеба\\\\6 Диплом\\\\Hoff\\\\005_example.xlsx', parse_dates = ['date_id'], \\\n",
    "                     index_col = 'date_id')"
   ]
  },
  {
   "cell_type": "code",
   "execution_count": 45,
   "metadata": {},
   "outputs": [
    {
     "data": {
      "text/html": [
       "<div>\n",
       "<style scoped>\n",
       "    .dataframe tbody tr th:only-of-type {\n",
       "        vertical-align: middle;\n",
       "    }\n",
       "\n",
       "    .dataframe tbody tr th {\n",
       "        vertical-align: top;\n",
       "    }\n",
       "\n",
       "    .dataframe thead th {\n",
       "        text-align: right;\n",
       "    }\n",
       "</style>\n",
       "<table border=\"1\" class=\"dataframe\">\n",
       "  <thead>\n",
       "    <tr style=\"text-align: right;\">\n",
       "      <th></th>\n",
       "      <th>good_id</th>\n",
       "      <th>ship_store_id</th>\n",
       "      <th>price</th>\n",
       "      <th>promo</th>\n",
       "      <th>sale</th>\n",
       "      <th>promo_price</th>\n",
       "      <th>holiday</th>\n",
       "      <th>owner_id</th>\n",
       "    </tr>\n",
       "    <tr>\n",
       "      <th>date_id</th>\n",
       "      <th></th>\n",
       "      <th></th>\n",
       "      <th></th>\n",
       "      <th></th>\n",
       "      <th></th>\n",
       "      <th></th>\n",
       "      <th></th>\n",
       "      <th></th>\n",
       "    </tr>\n",
       "  </thead>\n",
       "  <tbody>\n",
       "    <tr>\n",
       "      <th>2018-09-16</th>\n",
       "      <td>149045</td>\n",
       "      <td>40</td>\n",
       "      <td>699</td>\n",
       "      <td>0</td>\n",
       "      <td>1</td>\n",
       "      <td>699</td>\n",
       "      <td>0</td>\n",
       "      <td>2</td>\n",
       "    </tr>\n",
       "    <tr>\n",
       "      <th>2018-03-17</th>\n",
       "      <td>149045</td>\n",
       "      <td>40</td>\n",
       "      <td>599</td>\n",
       "      <td>0</td>\n",
       "      <td>0</td>\n",
       "      <td>599</td>\n",
       "      <td>0</td>\n",
       "      <td>2</td>\n",
       "    </tr>\n",
       "    <tr>\n",
       "      <th>2018-03-23</th>\n",
       "      <td>149045</td>\n",
       "      <td>40</td>\n",
       "      <td>599</td>\n",
       "      <td>0</td>\n",
       "      <td>0</td>\n",
       "      <td>599</td>\n",
       "      <td>0</td>\n",
       "      <td>2</td>\n",
       "    </tr>\n",
       "    <tr>\n",
       "      <th>2017-07-25</th>\n",
       "      <td>149045</td>\n",
       "      <td>40</td>\n",
       "      <td>599</td>\n",
       "      <td>0</td>\n",
       "      <td>2</td>\n",
       "      <td>599</td>\n",
       "      <td>0</td>\n",
       "      <td>2</td>\n",
       "    </tr>\n",
       "    <tr>\n",
       "      <th>2018-10-04</th>\n",
       "      <td>173544</td>\n",
       "      <td>13</td>\n",
       "      <td>1399</td>\n",
       "      <td>0</td>\n",
       "      <td>0</td>\n",
       "      <td>1399</td>\n",
       "      <td>0</td>\n",
       "      <td>2</td>\n",
       "    </tr>\n",
       "  </tbody>\n",
       "</table>\n",
       "</div>"
      ],
      "text/plain": [
       "            good_id  ship_store_id  price  promo  sale  promo_price  holiday  \\\n",
       "date_id                                                                        \n",
       "2018-09-16   149045             40    699      0     1          699        0   \n",
       "2018-03-17   149045             40    599      0     0          599        0   \n",
       "2018-03-23   149045             40    599      0     0          599        0   \n",
       "2017-07-25   149045             40    599      0     2          599        0   \n",
       "2018-10-04   173544             13   1399      0     0         1399        0   \n",
       "\n",
       "            owner_id  \n",
       "date_id               \n",
       "2018-09-16         2  \n",
       "2018-03-17         2  \n",
       "2018-03-23         2  \n",
       "2017-07-25         2  \n",
       "2018-10-04         2  "
      ]
     },
     "execution_count": 45,
     "metadata": {},
     "output_type": "execute_result"
    }
   ],
   "source": [
    "data.head()"
   ]
  },
  {
   "cell_type": "markdown",
   "metadata": {},
   "source": [
    "date_id - дата\n",
    "\n",
    "good_id - код товара\n",
    "\n",
    "ship_store_id - код магазина\n",
    "\n",
    "price - цена\n",
    "\n",
    "promo - флаг промо\n",
    "\n",
    "sale - продажи\n",
    "\n",
    "promo_price - промо цена\n",
    "\n",
    "holiday - флаг праздничного дня\n",
    "\n",
    "owner_id - код региона\n",
    "\n",
    "\n",
    "Задача:\n",
    "1. Провести исследование данных. Представить результаты исследования и программный код.\n",
    "2. Рассчитать регулярный прогноз (без промо) на 45, 46, 47, 48 календарные недели. Вы можете по своему усмотрению:\n",
    "\tа.\tДелать прогноз на уровне дня, потом при подсчете результатов агрегировать прогноз и факт продаж на уровень недели.\n",
    "\tб.\tАгрегировать продажи на уровень недели и рассчитывать прогноз на уровне недели.\t \n",
    "Результат должен быть в разрезе good_id/ship_store_id/date (на уровне недели)\n",
    "3. Оценить точность 1-MAPE понедельно. Представить результаты и код.\n",
    "\n",
    "Чтобы избежать деления на ноль при рассчете MAPE, используйте модифицированную формулу:\n",
    "MAPE = SUM(ABS(Predict-Fact)/MAX(Predict,Fact))\n",
    "\n",
    "Как оцениваем:\n",
    "1. Консолидируем прогноз и факт для пересечения ship_store_id / good_id  до уровня недели.\n",
    "2. Из полученного прогноза \"выкалываем\" пересечения ship_store_id / good_id / неделя если в какой-либо день недели у товара было промо.\n",
    "3. По оставшимся пересечениям ship_store_id / good_id / неделя зассчитываем MAPE для каждой недели.\n",
    "\n",
    "Желательная недельная целевая точность (1-MAPE):\n",
    "0.45 - удовлетворительно\n",
    "0.5 - хорошо\n",
    "0.55 - прекрасно!"
   ]
  },
  {
   "cell_type": "markdown",
   "metadata": {},
   "source": [
    "## 1. Анализ данных"
   ]
  },
  {
   "cell_type": "markdown",
   "metadata": {},
   "source": [
    "Пропусков нет:"
   ]
  },
  {
   "cell_type": "code",
   "execution_count": 29,
   "metadata": {},
   "outputs": [
    {
     "name": "stdout",
     "output_type": "stream",
     "text": [
      "<class 'pandas.core.frame.DataFrame'>\n",
      "DatetimeIndex: 529577 entries, 2018-09-16 to 2019-11-29\n",
      "Data columns (total 8 columns):\n",
      "good_id          529577 non-null int64\n",
      "ship_store_id    529577 non-null int64\n",
      "price            529577 non-null int64\n",
      "promo            529577 non-null int64\n",
      "sale             529577 non-null int64\n",
      "promo_price      529577 non-null int64\n",
      "holiday          529577 non-null int64\n",
      "owner_id         529577 non-null int64\n",
      "dtypes: int64(8)\n",
      "memory usage: 36.4 MB\n"
     ]
    }
   ],
   "source": [
    "data.info()"
   ]
  },
  {
   "cell_type": "markdown",
   "metadata": {},
   "source": [
    "Количество уникальных товаров:"
   ]
  },
  {
   "cell_type": "code",
   "execution_count": 30,
   "metadata": {},
   "outputs": [
    {
     "data": {
      "text/plain": [
       "50"
      ]
     },
     "execution_count": 30,
     "metadata": {},
     "output_type": "execute_result"
    }
   ],
   "source": [
    "data['good_id'].nunique()"
   ]
  },
  {
   "cell_type": "markdown",
   "metadata": {},
   "source": [
    "Уникальных магазинов:"
   ]
  },
  {
   "cell_type": "code",
   "execution_count": 31,
   "metadata": {},
   "outputs": [
    {
     "data": {
      "text/plain": [
       "46"
      ]
     },
     "execution_count": 31,
     "metadata": {},
     "output_type": "execute_result"
    }
   ],
   "source": [
    "data['ship_store_id'].nunique()"
   ]
  },
  {
   "cell_type": "code",
   "execution_count": 51,
   "metadata": {},
   "outputs": [],
   "source": [
    "week_data = data.sale.resample('W').sum()"
   ]
  },
  {
   "cell_type": "code",
   "execution_count": 55,
   "metadata": {},
   "outputs": [
    {
     "data": {
      "text/plain": [
       "<matplotlib.axes._subplots.AxesSubplot at 0x13d801c8be0>"
      ]
     },
     "execution_count": 55,
     "metadata": {},
     "output_type": "execute_result"
    },
    {
     "data": {
      "image/png": "[encoded data removed]",
      "text/plain": [
       "<Figure size 864x432 with 1 Axes>"
      ]
     },
     "metadata": {
      "needs_background": "light"
     },
     "output_type": "display_data"
    }
   ],
   "source": [
    "week_data.plot(figsize=(12,6))"
   ]
  },
  {
   "cell_type": "code",
   "execution_count": null,
   "metadata": {},
   "outputs": [],
   "source": []
  }
 ],
 "metadata": {
  "kernelspec": {
   "display_name": "Python 3",
   "language": "python",
   "name": "python3"
  },
  "language_info": {
   "codemirror_mode": {
    "name": "ipython",
    "version": 3
   },
   "file_extension": ".py",
   "mimetype": "text/x-python",
   "name": "python",
   "nbconvert_exporter": "python",
   "pygments_lexer": "ipython3",
   "version": "3.7.3"
  }
 },
 "nbformat": 4,
 "nbformat_minor": 2
}
