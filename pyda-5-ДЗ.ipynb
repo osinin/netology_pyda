{
 "cells": [
  {
   "cell_type": "markdown",
   "metadata": {},
   "source": [
    "### Задание 1\n",
    "#### Создайте numpy array с элементами от числа N до 0 (например, для N = 10 это будет array([9, 8, 7, 6, 5, 4, 3, 2, 1, 0]))."
   ]
  },
  {
   "cell_type": "code",
   "execution_count": 120,
   "metadata": {},
   "outputs": [
    {
     "name": "stdout",
     "output_type": "stream",
     "text": [
      "Введите N: 10\n",
      "[9, 8, 7, 6, 5, 4, 3, 2, 1, 0]\n"
     ]
    }
   ],
   "source": [
    "import numpy as np\n",
    "N = int(input('Введите N: '))\n",
    "mas = np.arange(0, N)\n",
    "print(sorted(mas, reverse = True))"
   ]
  },
  {
   "cell_type": "markdown",
   "metadata": {},
   "source": [
    "### Задание 2\n",
    "#### Создайте диагональную матрицу с элементами от N до 0. Посчитайте сумму ее значений на диагонали."
   ]
  },
  {
   "cell_type": "code",
   "execution_count": 122,
   "metadata": {},
   "outputs": [
    {
     "name": "stdout",
     "output_type": "stream",
     "text": [
      "[[4 0 0 0 0]\n",
      " [0 3 0 0 0]\n",
      " [0 0 2 0 0]\n",
      " [0 0 0 1 0]\n",
      " [0 0 0 0 0]]\n"
     ]
    },
    {
     "data": {
      "text/plain": [
       "10"
      ]
     },
     "execution_count": 122,
     "metadata": {},
     "output_type": "execute_result"
    }
   ],
   "source": [
    "def diag_sum(N):\n",
    "    total_sum = 0\n",
    "    mass = np.arange(0, N)\n",
    "    mass_res = (sorted(mass, reverse = True))\n",
    "    matrix = np.diag(mass_res)\n",
    "    print(matrix)\n",
    "    for row in range(len(matrix)):\n",
    "        total_sum += matrix[row][row]\n",
    "    return total_sum\n",
    "diag_sum(5)"
   ]
  },
  {
   "cell_type": "markdown",
   "metadata": {},
   "source": [
    "### Задание 3\n",
    "#### Решите систему уравнений:\n",
    "#### 4x + 2y + z = 4\n",
    "#### x + 3y = 12\n",
    "#### 5y + 4z = -3"
   ]
  },
  {
   "cell_type": "code",
   "execution_count": 33,
   "metadata": {},
   "outputs": [
    {
     "name": "stdout",
     "output_type": "stream",
     "text": [
      "X = 0.4666666666666668, Y = 3.844444444444444, Z = -5.555555555555555\n"
     ]
    }
   ],
   "source": [
    "from numpy import linalg\n",
    "left = np.array([[4, 2, 1], [1, 3, 0], [0, 5, 4]])\n",
    "right = np.array([4, 12, -3])\n",
    "print(f\"X = {linalg.solve(left, right)[0]}, Y = {linalg.solve(left, right)[1]}, Z = {linalg.solve(left, right)[2]}\")"
   ]
  }
 ],
 "metadata": {
  "kernelspec": {
   "display_name": "Python 3",
   "language": "python",
   "name": "python3"
  },
  "language_info": {
   "codemirror_mode": {
    "name": "ipython",
    "version": 3
   },
   "file_extension": ".py",
   "mimetype": "text/x-python",
   "name": "python",
   "nbconvert_exporter": "python",
   "pygments_lexer": "ipython3",
   "version": "3.7.3"
  }
 },
 "nbformat": 4,
 "nbformat_minor": 2
}
